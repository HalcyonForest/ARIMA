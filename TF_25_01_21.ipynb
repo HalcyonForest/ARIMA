{
  "nbformat": 4,
  "nbformat_minor": 0,
  "metadata": {
    "colab": {
      "name": "TF_25_01_21.ipynb",
      "provenance": [],
      "collapsed_sections": [],
      "authorship_tag": "ABX9TyP+KiW9WNbe+CQNt8PfQjUd",
      "include_colab_link": true
    },
    "kernelspec": {
      "name": "python3",
      "display_name": "Python 3"
    }
  },
  "cells": [
    {
      "cell_type": "markdown",
      "metadata": {
        "id": "view-in-github",
        "colab_type": "text"
      },
      "source": [
        "<a href=\"https://colab.research.google.com/github/HalcyonForest/ARIMA/blob/main/TF_25_01_21.ipynb\" target=\"_parent\"><img src=\"https://colab.research.google.com/assets/colab-badge.svg\" alt=\"Open In Colab\"/></a>"
      ]
    },
    {
      "cell_type": "code",
      "metadata": {
        "id": "WlqbOUXobwB9"
      },
      "source": [
        "import tensorflow\r\n",
        "import xgboost as xgb\r\n",
        "import pandas as pd\r\n",
        "import numpy as np\r\n",
        "import matplotlib.pyplot as plt\r\n",
        "from sklearn.preprocessing import MinMaxScaler\r\n",
        "from tensorflow.keras.preprocessing.sequence import TimeseriesGenerator # Generates batches for sequence data\r\n",
        "from tensorflow.keras.models import Sequential\r\n",
        "from tensorflow.keras.layers import Dense,SimpleRNN,LSTM, Dropout\r\n",
        "from tensorflow.keras.callbacks import EarlyStopping\r\n",
        "from keras.layers import RepeatVector\r\n",
        "from keras.layers import Bidirectional\r\n",
        "from keras.layers import Flatten\r\n",
        "from keras.layers import TimeDistributed\r\n",
        "from keras.layers.convolutional import Conv1D\r\n",
        "from keras.layers.convolutional import MaxPooling1D\r\n",
        "from sklearn.preprocessing import MinMaxScaler\r\n",
        "from sklearn.metrics import mean_squared_error\r\n",
        "from sklearn.utils import shuffle\r\n",
        "from sklearn.model_selection import train_test_split\r\n",
        "from sklearn.metrics import mean_squared_error as mse"
      ],
      "execution_count": null,
      "outputs": []
    },
    {
      "cell_type": "code",
      "metadata": {
        "colab": {
          "base_uri": "https://localhost:8080/",
          "height": 35
        },
        "id": "d-mC6PN9ThS7",
        "outputId": "1ae87fc7-daf5-4ba6-a152-e5d15f3ee0e2"
      },
      "source": [
        "sklearn.__version__"
      ],
      "execution_count": null,
      "outputs": [
        {
          "output_type": "execute_result",
          "data": {
            "application/vnd.google.colaboratory.intrinsic+json": {
              "type": "string"
            },
            "text/plain": [
              "'0.22.2.post1'"
            ]
          },
          "metadata": {
            "tags": []
          },
          "execution_count": 43
        }
      ]
    },
    {
      "cell_type": "code",
      "metadata": {
        "colab": {
          "resources": {
            "http://localhost:8080/nbextensions/google.colab/files.js": {
              "data": "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",
              "ok": true,
              "headers": [
                [
                  "content-type",
                  "application/javascript"
                ]
              ],
              "status": 200,
              "status_text": ""
            }
          },
          "base_uri": "https://localhost:8080/",
          "height": 73
        },
        "id": "FP59m9Efb4-S",
        "outputId": "559ac4ec-2730-4f97-a4f1-b7099f48ac99"
      },
      "source": [
        "from google.colab import files\r\n",
        "uploaded = files.upload()"
      ],
      "execution_count": null,
      "outputs": [
        {
          "output_type": "display_data",
          "data": {
            "text/html": [
              "\n",
              "     <input type=\"file\" id=\"files-f10135a2-d349-447e-b8e5-34ec676b1a92\" name=\"files[]\" multiple disabled\n",
              "        style=\"border:none\" />\n",
              "     <output id=\"result-f10135a2-d349-447e-b8e5-34ec676b1a92\">\n",
              "      Upload widget is only available when the cell has been executed in the\n",
              "      current browser session. Please rerun this cell to enable.\n",
              "      </output>\n",
              "      <script src=\"/nbextensions/google.colab/files.js\"></script> "
            ],
            "text/plain": [
              "<IPython.core.display.HTML object>"
            ]
          },
          "metadata": {
            "tags": []
          }
        },
        {
          "output_type": "stream",
          "text": [
            "Saving SBER_190101_210108.csv to SBER_190101_210108.csv\n"
          ],
          "name": "stdout"
        }
      ]
    },
    {
      "cell_type": "code",
      "metadata": {
        "id": "G0K0waD9cB5R"
      },
      "source": [
        "df = pd.read_csv('SBER_190101_210108.csv')\r\n",
        "df['DATE'] = df['<DATE>']\r\n",
        "df['TIME'] = df['<TIME>']\r\n",
        "df['OPEN'] = df['<OPEN>']\r\n",
        "df['HIGH'] = df['<HIGH>']\r\n",
        "df['LOW'] = df['<LOW>']\r\n",
        "df['CLOSE'] = df['<CLOSE>']\r\n",
        "df['VOL'] = df['<VOL>']\r\n",
        "df = df.drop(columns=['<DATE>', '<TIME>', '<OPEN>','<HIGH>','<LOW>','<CLOSE>', '<VOL>'])\r\n",
        "df['DATETIME'] = df['DATE'].astype(str) + df['TIME'].astype(str)\r\n",
        "df['DATETIME'].head()\r\n",
        "time = pd.to_datetime(df['DATETIME'], format='%Y%m%d%H%M%S')\r\n",
        "df.index = time\r\n",
        "df = df.drop(columns=['DATE', 'TIME', 'DATETIME'])"
      ],
      "execution_count": null,
      "outputs": []
    },
    {
      "cell_type": "code",
      "metadata": {
        "id": "pmD7Yg9ecWsT"
      },
      "source": [
        "def split_sequence(sequence, n_steps):\r\n",
        "\tX, y = list(), list()\r\n",
        "\tfor i in range(len(sequence)):\r\n",
        "\t\t# find the end of this pattern\r\n",
        "\t\tend_ix = i + n_steps\r\n",
        "\t\t# check if we are beyond the sequence\r\n",
        "\t\tif end_ix > len(sequence)-1:\r\n",
        "\t\t\tbreak\r\n",
        "\t\t# gather input and output parts of the pattern\r\n",
        "\t\tseq_x, seq_y = sequence[i:end_ix], sequence[end_ix]\r\n",
        "\t\tX.append(seq_x)\r\n",
        "\t\ty.append(seq_y)\r\n",
        "\treturn np.array(X), np.array(y)\r\n",
        "\r\n",
        "# split a univariate sequence into samples\r\n",
        "def split_sequence(sequence, n_steps_in, n_steps_out):\r\n",
        "\tX, y = list(), list()\r\n",
        "\tfor i in range(len(sequence)):\r\n",
        "\t\t# find the end of this pattern\r\n",
        "\t\tend_ix = i + n_steps_in\r\n",
        "\t\tout_end_ix = end_ix + n_steps_out\r\n",
        "\t\t# check if we are beyond the sequence\r\n",
        "\t\tif out_end_ix > len(sequence):\r\n",
        "\t\t\tbreak\r\n",
        "\t\t# gather input and output parts of the pattern\r\n",
        "\t\tseq_x, seq_y = sequence[i:end_ix], sequence[end_ix:out_end_ix]\r\n",
        "\t\tX.append(seq_x)\r\n",
        "\t\ty.append(seq_y)\r\n",
        "\treturn np.array(X), np.array(y)\r\n"
      ],
      "execution_count": null,
      "outputs": []
    },
    {
      "cell_type": "code",
      "metadata": {
        "id": "N_dacxYpeiSW"
      },
      "source": [
        "df_daily = df.resample(\"D\").mean()\r\n",
        "df_daily[\"OPEN\"].fillna(method=\"ffill\", inplace=True)\r\n",
        "df_daily[\"CLOSE\"].fillna(method=\"ffill\", inplace=True)\r\n",
        "df_daily[\"HIGH\"].fillna(method=\"ffill\", inplace=True)\r\n",
        "df_daily[\"LOW\"].fillna(method=\"ffill\", inplace=True)\r\n",
        "df_daily[\"VOL\"].fillna(method=\"ffill\", inplace=True)"
      ],
      "execution_count": null,
      "outputs": []
    },
    {
      "cell_type": "code",
      "metadata": {
        "colab": {
          "base_uri": "https://localhost:8080/"
        },
        "id": "MDetcNR1ewDJ",
        "outputId": "5380e9be-f132-478a-8229-dff8b097ce50"
      },
      "source": [
        "df_daily.shape"
      ],
      "execution_count": null,
      "outputs": [
        {
          "output_type": "execute_result",
          "data": {
            "text/plain": [
              "(737, 5)"
            ]
          },
          "metadata": {
            "tags": []
          },
          "execution_count": 8
        }
      ]
    },
    {
      "cell_type": "code",
      "metadata": {
        "id": "THhS-bSkeHz2"
      },
      "source": [
        "X, y = split_sequence(df_daily[\"CLOSE\"], 30)\r\n",
        "X_train, X_test, y_train, y_test = train_test_split(X, y, test_size=0.2, shuffle=False)"
      ],
      "execution_count": null,
      "outputs": []
    },
    {
      "cell_type": "code",
      "metadata": {
        "colab": {
          "base_uri": "https://localhost:8080/"
        },
        "id": "WHq2ydKKglfp",
        "outputId": "3a381c2a-c0d1-4812-e529-20a9c864c643"
      },
      "source": [
        "X.shape"
      ],
      "execution_count": null,
      "outputs": [
        {
          "output_type": "execute_result",
          "data": {
            "text/plain": [
              "(707, 30)"
            ]
          },
          "metadata": {
            "tags": []
          },
          "execution_count": 19
        }
      ]
    },
    {
      "cell_type": "code",
      "metadata": {
        "id": "eYL6TNe7fCqU",
        "colab": {
          "base_uri": "https://localhost:8080/"
        },
        "outputId": "20d38b45-2bdd-478f-963a-8388b830b525"
      },
      "source": [
        "model = Sequential()\r\n",
        "model.add(Dense(100, activation='relu', input_dim=X_train.shape[1]))\r\n",
        "model.add(Dropout(0.3))\r\n",
        "model.add(Dense(1))\r\n",
        "model.compile(optimizer='adam', loss='mse')\r\n",
        "model.fit(X_train,y_train, epochs=1000, verbose=0)"
      ],
      "execution_count": null,
      "outputs": [
        {
          "output_type": "execute_result",
          "data": {
            "text/plain": [
              "<tensorflow.python.keras.callbacks.History at 0x7f4524f75a58>"
            ]
          },
          "metadata": {
            "tags": []
          },
          "execution_count": 7
        }
      ]
    },
    {
      "cell_type": "code",
      "metadata": {
        "id": "FoOZkl0z5PUj"
      },
      "source": [
        "X_CNN = X.reshape(X.shape[0], X.shape[1], 1)\r\n",
        "X_trainCNN, X_testCNN, y_trainCNN, y_testCNN = train_test_split(X_CNN, y, test_size=0.2, shuffle=False)\r\n"
      ],
      "execution_count": null,
      "outputs": []
    },
    {
      "cell_type": "code",
      "metadata": {
        "id": "vlNRlCiWTwQu"
      },
      "source": [
        "model_CNN = Sequential()\r\n",
        "model_CNN.add(Conv1D(64, 2, activation='relu', input_shape=(X.shape[1], 1)))\r\n",
        "model_CNN.add(MaxPooling1D())\r\n",
        "model_CNN.add(Flatten())\r\n",
        "model_CNN.add(Dense(150, activation='relu'))\r\n",
        "model_CNN.add(Dense(50, activation='relu'))\r\n",
        "model_CNN.add(Dense(1))\r\n",
        "model_CNN.compile(optimizer='adam', loss='mse')\r\n",
        "model_CNN.fit(X_trainCNN,y_trainCNN, epochs=1000, verbose=0)\r\n",
        "y_pred2 = model_CNN.predict(X_testCNN, verbose=0)"
      ],
      "execution_count": null,
      "outputs": []
    },
    {
      "cell_type": "code",
      "metadata": {
        "id": "KJtmu7rosjmJ"
      },
      "source": [
        "print(\"Error CNN: \", mse(y_pred2, y_test))"
      ],
      "execution_count": null,
      "outputs": []
    },
    {
      "cell_type": "code",
      "metadata": {
        "id": "oACJo82VHHUP"
      },
      "source": [
        "model_lstm = Sequential()\r\n",
        "model_lstm.add(LSTM(50, activation='relu', input_shape=(X.shape[1], 1)))\r\n",
        "model_lstm.add(Dense(50))\r\n",
        "model_lstm.add(Dense(1))\r\n",
        "model_lstm.compile(optimizer='adam', loss='mse')\r\n",
        "hi = model_lstm.fit(X_trainCNN, y_trainCNN, epochs=300, verbose=1, batch_size=15)\r\n",
        "y_pred_lstm  = model_lstm.predict(X_testCNN, verbose=0)\r\n",
        "print(\"Error: LSTM \", mse(y_pred_lstm, y_testCNN))\r\n"
      ],
      "execution_count": null,
      "outputs": []
    },
    {
      "cell_type": "code",
      "metadata": {
        "colab": {
          "base_uri": "https://localhost:8080/"
        },
        "id": "bmAj9FzO-tZB",
        "outputId": "dba59536-a2ea-4301-fca0-3f95f87b39df"
      },
      "source": [
        "print(\"Train Error, \", mse(model_lstm.predict(X_trainCNN, verbose=0), y_trainCNN))"
      ],
      "execution_count": null,
      "outputs": [
        {
          "output_type": "stream",
          "text": [
            "Train Error,  16.3177529985986\n"
          ],
          "name": "stdout"
        }
      ]
    },
    {
      "cell_type": "code",
      "metadata": {
        "colab": {
          "base_uri": "https://localhost:8080/",
          "height": 283
        },
        "id": "u9cHEWuH7uiL",
        "outputId": "a5298c84-fc75-4605-e148-d9b89474fa3c"
      },
      "source": [
        "plt.plot(hi.history['loss'][2:])"
      ],
      "execution_count": null,
      "outputs": [
        {
          "output_type": "execute_result",
          "data": {
            "text/plain": [
              "[<matplotlib.lines.Line2D at 0x7f4517dc36a0>]"
            ]
          },
          "metadata": {
            "tags": []
          },
          "execution_count": 87
        },
        {
          "output_type": "display_data",
          "data": {
            "image/png": "[encoded data removed]",
            "text/plain": [
              "<Figure size 432x288 with 1 Axes>"
            ]
          },
          "metadata": {
            "tags": [],
            "needs_background": "light"
          }
        }
      ]
    },
    {
      "cell_type": "code",
      "metadata": {
        "colab": {
          "base_uri": "https://localhost:8080/"
        },
        "id": "mZ2elkQEKv6P",
        "outputId": "39427596-a905-45ad-c6f0-a197e42b802e"
      },
      "source": [
        "model_lstm_b = Sequential()\r\n",
        "model_lstm_b.add(Bidirectional(LSTM(50, activation='relu', input_shape=(X.shape[1], 1))))\r\n",
        "model_lstm_b.add(Dense(150))\r\n",
        "model_lstm_b.add(Dense(1))\r\n",
        "model_lstm_b.compile(optimizer='adam', loss='mse')\r\n",
        "model_lstm_b.fit(X_trainCNN, y_trainCNN, epochs=500, verbose=0)\r\n",
        "y_pred_lstm_b  = model_lstm_b.predict(X_testCNN, verbose=0)\r\n",
        "print(\"Error: LSTM Bidirectional:\", mse(y_pred_lstm_b, y_testCNN))"
      ],
      "execution_count": null,
      "outputs": [
        {
          "output_type": "stream",
          "text": [
            "Error: LSTM Bidirectional: 38.25124661745454\n"
          ],
          "name": "stdout"
        }
      ]
    },
    {
      "cell_type": "code",
      "metadata": {
        "colab": {
          "base_uri": "https://localhost:8080/"
        },
        "id": "__gENU9eJ0oQ",
        "outputId": "d0a7dc25-ae57-403f-92b3-60ae606af3a9"
      },
      "source": [
        "model_lstm_s = Sequential()\r\n",
        "model_lstm_s.add(LSTM(100, activation='relu', return_sequences=True ,input_shape=(X.shape[1], 1)))\r\n",
        "model_lstm_s.add(LSTM(50, activation='relu'))\r\n",
        "model_lstm_s.add(Dense(150))\r\n",
        "model_lstm_s.add(Dense(1))\r\n",
        "model_lstm_s.compile(optimizer='adam', loss='mse')\r\n",
        "model_lstm_s.fit(X_trainCNN, y_trainCNN, epochs=500, verbose=0)\r\n",
        "y_pred_lstm_s  = model_lstm_s.predict(X_testCNN, verbose=0)\r\n",
        "print(\"Error: LSTM \", mse(y_pred_lstm_s, y_testCNN))"
      ],
      "execution_count": null,
      "outputs": [
        {
          "output_type": "stream",
          "text": [
            "Error: LSTM  331.3170309635063\n"
          ],
          "name": "stdout"
        }
      ]
    },
    {
      "cell_type": "code",
      "metadata": {
        "colab": {
          "base_uri": "https://localhost:8080/"
        },
        "id": "ARW6eIjqTqPH",
        "outputId": "b7d28e62-a8e7-4d23-e98c-a4f29077628b"
      },
      "source": [
        "X.shape"
      ],
      "execution_count": null,
      "outputs": [
        {
          "output_type": "execute_result",
          "data": {
            "text/plain": [
              "(707, 30)"
            ]
          },
          "metadata": {
            "tags": []
          },
          "execution_count": 65
        }
      ]
    },
    {
      "cell_type": "code",
      "metadata": {
        "id": "9G5_yeTnSj5t"
      },
      "source": [
        "X_CNN_LSTM = X.reshape(X.shape[0],2, X.shape[1] // 2, 1)\r\n",
        "X_trainCNN_LSTM, X_testCNN_LSTM, y_trainCNN_LSTM, y_testCNN_LSTM = train_test_split(X_CNN_LSTM, y, test_size=0.2, shuffle=False)"
      ],
      "execution_count": null,
      "outputs": []
    },
    {
      "cell_type": "code",
      "metadata": {
        "colab": {
          "base_uri": "https://localhost:8080/"
        },
        "id": "V4w-9PGAgHwT",
        "outputId": "df1c6684-68ae-44f1-8449-ae18f59f1f28"
      },
      "source": [
        "model_cnn_lstm = Sequential()\r\n",
        "model_cnn_lstm.add(TimeDistributed(Conv1D(64, 1, activation='relu'), input_shape=(None, X.shape[1] // 2, 1)))\r\n",
        "model_cnn_lstm.add(TimeDistributed(MaxPooling1D()))\r\n",
        "model_cnn_lstm.add(TimeDistributed(Flatten()))\r\n",
        "model_cnn_lstm.add(LSTM(50, activation='relu'))\r\n",
        "model_cnn_lstm.add(Dense(150))\r\n",
        "model_cnn_lstm.add(Dense(50))\r\n",
        "model_cnn_lstm.add(Dense(1))\r\n",
        "model_cnn_lstm.compile(optimizer='adam', loss='mse')\r\n",
        "# fit model\r\n",
        "model_cnn_lstm.fit(X_trainCNN_LSTM, y_trainCNN_LSTM, epochs=1000, verbose=0)\r\n",
        "y_pred_cnn_lstm  = model_cnn_lstm.predict(X_testCNN_LSTM, verbose=0)\r\n",
        "print(\"Error: CNN ^ LSTM \", mse(y_pred_cnn_lstm, y_testCNN_LSTM))"
      ],
      "execution_count": null,
      "outputs": [
        {
          "output_type": "stream",
          "text": [
            "Error: CNN ^ LSTM  34.38358516104102\n"
          ],
          "name": "stdout"
        }
      ]
    },
    {
      "cell_type": "markdown",
      "metadata": {
        "id": "TXplfQLeFHur"
      },
      "source": [
        "1.If the network has only one output node and you believe that the required input–output relationship is fairly straightforward, start with a hidden-layer dimensionality that is equal to two-thirds of the input dimensionality.\r\n",
        "\r\n",
        "2.If you have multiple output nodes or you believe that the required input–output relationship is complex, make the hidden-layer dimensionality equal to the input dimensionality plus the output dimensionality (but keep it less than twice the input dimensionality).\r\n",
        "\r\n",
        "3.If you believe that the required input–output relationship is extremely complex, set the hidden dimensionality to one less than twice the input dimensionality."
      ]
    },
    {
      "cell_type": "code",
      "metadata": {
        "colab": {
          "base_uri": "https://localhost:8080/"
        },
        "id": "hjrAxZn97jX2",
        "outputId": "cd48fe80-0aef-4351-9924-8c47703f575c"
      },
      "source": [
        "from keras.callbacks import EarlyStopping\r\n",
        "#Add Dropout!\r\n",
        "#Увеличивать число нейронов а не слоев. Слоив помогают когда данных больше или фич.\r\n",
        "\r\n",
        "\r\n",
        "\r\n",
        "EarlyStopping(monitor='val_err', patience=5)"
      ],
      "execution_count": null,
      "outputs": [
        {
          "output_type": "execute_result",
          "data": {
            "text/plain": [
              "<tensorflow.python.keras.callbacks.EarlyStopping at 0x7f840d9bc320>"
            ]
          },
          "metadata": {
            "tags": []
          },
          "execution_count": 1
        }
      ]
    },
    {
      "cell_type": "code",
      "metadata": {
        "colab": {
          "base_uri": "https://localhost:8080/"
        },
        "id": "LGXlfsnHznOI",
        "outputId": "19e9194d-8d02-4d22-9e2a-87aa524012e6"
      },
      "source": [
        "print(X_train.shape, y_train.shape)"
      ],
      "execution_count": null,
      "outputs": [
        {
          "output_type": "stream",
          "text": [
            "(565, 30) (565,)\n"
          ],
          "name": "stdout"
        }
      ]
    },
    {
      "cell_type": "code",
      "metadata": {
        "id": "YCTjUNiXz-gb"
      },
      "source": [
        ""
      ],
      "execution_count": null,
      "outputs": []
    },
    {
      "cell_type": "code",
      "metadata": {
        "colab": {
          "base_uri": "https://localhost:8080/"
        },
        "id": "OwI8CO8dr7jw",
        "outputId": "3d3331ee-7760-440b-dcff-e915dbe205eb"
      },
      "source": [
        "boost = xgb.XGBRegressor()\r\n",
        "D_train = xgb.DMatrix(X_train, label=y_train)\r\n",
        "D_test = xgb.DMatrix(X_test, label=y_test)\r\n",
        "\r\n",
        "param = {\r\n",
        "         'max_depth':3, \r\n",
        "         'eta':0.3,  \r\n",
        "         'seed':1,\r\n",
        "         'eval_metric':'rmse'} # random parameters\r\n",
        "\r\n",
        "steps = 20\r\n",
        "\r\n",
        "boost.fit(X_train, y_train,eval_set=[(X_train, y_train)], verbose=0)\r\n",
        "\r\n",
        "y_pred_xgb = boost.predict(X_test)\r\n",
        "print(\"XGB Error: \", mse(y_pred_xgb, y_test))\r\n"
      ],
      "execution_count": null,
      "outputs": [
        {
          "output_type": "stream",
          "text": [
            "[21:36:21] WARNING: /workspace/src/objective/regression_obj.cu:152: reg:linear is now deprecated in favor of reg:squarederror.\n",
            "XGB Error:  62.481302852612416\n"
          ],
          "name": "stdout"
        }
      ]
    },
    {
      "cell_type": "code",
      "metadata": {
        "colab": {
          "base_uri": "https://localhost:8080/",
          "height": 333
        },
        "id": "5UNpwDLYNFE4",
        "outputId": "a1c3ecc6-5e9d-4952-a0ab-204132ba4e6e"
      },
      "source": [
        "y_pred = model.predict(X_test, verbose=0)\r\n",
        "#print(\"Error mlp: \", mse(y_pred, y_test))\r\n",
        "print(\"Error CNN: \", mse(y_pred2, y_test))\r\n",
        "print(\"Error: LSTM \", mse(y_pred_lstm, y_testCNN))\r\n",
        "print(\"Error: Stacked LSTM \", mse(y_pred_lstm_s, y_testCNN))\r\n",
        "plt.figure(figsize=(16,4))\r\n",
        "plt.plot(y_test)\r\n",
        "#plt.plot(y_pred)\r\n",
        "plt.plot(y_pred2)\r\n",
        "plt.plot(y_pred_lstm)\r\n",
        "plt.legend(['Original', 'CNN', 'LSTM','Stacked LSTM'])\r\n",
        "plt.title('Sberbank stock price')\r\n",
        "plt.show()\r\n"
      ],
      "execution_count": null,
      "outputs": [
        {
          "output_type": "stream",
          "text": [
            "Error CNN:  31.619856844692166\n",
            "Error: LSTM  11.17651454730681\n",
            "Error: Stacked LSTM  331.3170309635063\n"
          ],
          "name": "stdout"
        },
        {
          "output_type": "display_data",
          "data": {
            "image/png": "[encoded data removed]",
            "text/plain": [
              "<Figure size 1152x288 with 1 Axes>"
            ]
          },
          "metadata": {
            "tags": [],
            "needs_background": "light"
          }
        }
      ]
    },
    {
      "cell_type": "markdown",
      "metadata": {
        "id": "XYmylfPlQBj3"
      },
      "source": [
        "**2**. **Multistep** **forecasting**"
      ]
    },
    {
      "cell_type": "markdown",
      "metadata": {
        "id": "2Ouqb08bexBe"
      },
      "source": [
        ""
      ]
    },
    {
      "cell_type": "code",
      "metadata": {
        "id": "jazs5EzeQLSn"
      },
      "source": [
        "Xm, ym = split_sequence(df['CLOSE'], 60,6)"
      ],
      "execution_count": null,
      "outputs": []
    },
    {
      "cell_type": "code",
      "metadata": {
        "colab": {
          "base_uri": "https://localhost:8080/"
        },
        "id": "S3r2RRBYUpXW",
        "outputId": "8e7e4fea-2d77-4b6d-c767-e86a3f70cbd4"
      },
      "source": [
        "df['CLOSE'].head(10)"
      ],
      "execution_count": null,
      "outputs": [
        {
          "output_type": "execute_result",
          "data": {
            "text/plain": [
              "DATETIME\n",
              "2019-01-03 10:05:00    186.61\n",
              "2019-01-03 10:10:00    186.20\n",
              "2019-01-03 10:15:00    186.30\n",
              "2019-01-03 10:20:00    186.38\n",
              "2019-01-03 10:25:00    186.50\n",
              "2019-01-03 10:30:00    188.14\n",
              "2019-01-03 10:35:00    188.06\n",
              "2019-01-03 10:40:00    188.30\n",
              "2019-01-03 10:45:00    188.22\n",
              "2019-01-03 10:50:00    188.18\n",
              "Name: CLOSE, dtype: float64"
            ]
          },
          "metadata": {
            "tags": []
          },
          "execution_count": 14
        }
      ]
    },
    {
      "cell_type": "code",
      "metadata": {
        "colab": {
          "base_uri": "https://localhost:8080/"
        },
        "id": "9G0o7c56U-aa",
        "outputId": "4f172636-62cc-4669-e594-0acae4febc4a"
      },
      "source": [
        "ym[:10]"
      ],
      "execution_count": null,
      "outputs": [
        {
          "output_type": "execute_result",
          "data": {
            "text/plain": [
              "array([[189.91, 189.59, 189.52, 189.36, 189.25, 189.36],\n",
              "       [189.59, 189.52, 189.36, 189.25, 189.36, 189.43],\n",
              "       [189.52, 189.36, 189.25, 189.36, 189.43, 189.66],\n",
              "       [189.36, 189.25, 189.36, 189.43, 189.66, 189.54],\n",
              "       [189.25, 189.36, 189.43, 189.66, 189.54, 189.17],\n",
              "       [189.36, 189.43, 189.66, 189.54, 189.17, 189.05],\n",
              "       [189.43, 189.66, 189.54, 189.17, 189.05, 188.99],\n",
              "       [189.66, 189.54, 189.17, 189.05, 188.99, 189.27],\n",
              "       [189.54, 189.17, 189.05, 188.99, 189.27, 189.44],\n",
              "       [189.17, 189.05, 188.99, 189.27, 189.44, 189.35]])"
            ]
          },
          "metadata": {
            "tags": []
          },
          "execution_count": 16
        }
      ]
    },
    {
      "cell_type": "code",
      "metadata": {
        "colab": {
          "base_uri": "https://localhost:8080/"
        },
        "id": "JthhyBUqUuU2",
        "outputId": "99bf5cf8-ce90-4b0f-eb3a-04339bf593ac"
      },
      "source": [
        "Xm[:10]"
      ],
      "execution_count": null,
      "outputs": [
        {
          "output_type": "execute_result",
          "data": {
            "text/plain": [
              "array([[186.61, 186.2 , 186.3 , 186.38, 186.5 , 188.14, 188.06, 188.3 ,\n",
              "        188.22, 188.18, 188.7 , 188.52, 189.57, 190.11, 190.55, 190.11,\n",
              "        190.36, 191.2 , 190.96, 190.43, 190.47, 190.29, 190.22, 190.29,\n",
              "        190.5 , 190.44, 190.26, 190.31, 190.13, 190.07, 189.86, 189.8 ,\n",
              "        189.98, 189.91, 189.52, 189.44, 189.24, 189.15, 189.42, 189.73,\n",
              "        189.42, 189.41, 189.19, 189.18, 189.36, 189.63, 189.53, 189.67,\n",
              "        189.56, 189.88, 189.43, 189.68, 189.52, 189.89, 189.67, 189.39,\n",
              "        189.48, 189.47, 189.72, 189.7 ],\n",
              "       [186.2 , 186.3 , 186.38, 186.5 , 188.14, 188.06, 188.3 , 188.22,\n",
              "        188.18, 188.7 , 188.52, 189.57, 190.11, 190.55, 190.11, 190.36,\n",
              "        191.2 , 190.96, 190.43, 190.47, 190.29, 190.22, 190.29, 190.5 ,\n",
              "        190.44, 190.26, 190.31, 190.13, 190.07, 189.86, 189.8 , 189.98,\n",
              "        189.91, 189.52, 189.44, 189.24, 189.15, 189.42, 189.73, 189.42,\n",
              "        189.41, 189.19, 189.18, 189.36, 189.63, 189.53, 189.67, 189.56,\n",
              "        189.88, 189.43, 189.68, 189.52, 189.89, 189.67, 189.39, 189.48,\n",
              "        189.47, 189.72, 189.7 , 189.91],\n",
              "       [186.3 , 186.38, 186.5 , 188.14, 188.06, 188.3 , 188.22, 188.18,\n",
              "        188.7 , 188.52, 189.57, 190.11, 190.55, 190.11, 190.36, 191.2 ,\n",
              "        190.96, 190.43, 190.47, 190.29, 190.22, 190.29, 190.5 , 190.44,\n",
              "        190.26, 190.31, 190.13, 190.07, 189.86, 189.8 , 189.98, 189.91,\n",
              "        189.52, 189.44, 189.24, 189.15, 189.42, 189.73, 189.42, 189.41,\n",
              "        189.19, 189.18, 189.36, 189.63, 189.53, 189.67, 189.56, 189.88,\n",
              "        189.43, 189.68, 189.52, 189.89, 189.67, 189.39, 189.48, 189.47,\n",
              "        189.72, 189.7 , 189.91, 189.59],\n",
              "       [186.38, 186.5 , 188.14, 188.06, 188.3 , 188.22, 188.18, 188.7 ,\n",
              "        188.52, 189.57, 190.11, 190.55, 190.11, 190.36, 191.2 , 190.96,\n",
              "        190.43, 190.47, 190.29, 190.22, 190.29, 190.5 , 190.44, 190.26,\n",
              "        190.31, 190.13, 190.07, 189.86, 189.8 , 189.98, 189.91, 189.52,\n",
              "        189.44, 189.24, 189.15, 189.42, 189.73, 189.42, 189.41, 189.19,\n",
              "        189.18, 189.36, 189.63, 189.53, 189.67, 189.56, 189.88, 189.43,\n",
              "        189.68, 189.52, 189.89, 189.67, 189.39, 189.48, 189.47, 189.72,\n",
              "        189.7 , 189.91, 189.59, 189.52],\n",
              "       [186.5 , 188.14, 188.06, 188.3 , 188.22, 188.18, 188.7 , 188.52,\n",
              "        189.57, 190.11, 190.55, 190.11, 190.36, 191.2 , 190.96, 190.43,\n",
              "        190.47, 190.29, 190.22, 190.29, 190.5 , 190.44, 190.26, 190.31,\n",
              "        190.13, 190.07, 189.86, 189.8 , 189.98, 189.91, 189.52, 189.44,\n",
              "        189.24, 189.15, 189.42, 189.73, 189.42, 189.41, 189.19, 189.18,\n",
              "        189.36, 189.63, 189.53, 189.67, 189.56, 189.88, 189.43, 189.68,\n",
              "        189.52, 189.89, 189.67, 189.39, 189.48, 189.47, 189.72, 189.7 ,\n",
              "        189.91, 189.59, 189.52, 189.36],\n",
              "       [188.14, 188.06, 188.3 , 188.22, 188.18, 188.7 , 188.52, 189.57,\n",
              "        190.11, 190.55, 190.11, 190.36, 191.2 , 190.96, 190.43, 190.47,\n",
              "        190.29, 190.22, 190.29, 190.5 , 190.44, 190.26, 190.31, 190.13,\n",
              "        190.07, 189.86, 189.8 , 189.98, 189.91, 189.52, 189.44, 189.24,\n",
              "        189.15, 189.42, 189.73, 189.42, 189.41, 189.19, 189.18, 189.36,\n",
              "        189.63, 189.53, 189.67, 189.56, 189.88, 189.43, 189.68, 189.52,\n",
              "        189.89, 189.67, 189.39, 189.48, 189.47, 189.72, 189.7 , 189.91,\n",
              "        189.59, 189.52, 189.36, 189.25],\n",
              "       [188.06, 188.3 , 188.22, 188.18, 188.7 , 188.52, 189.57, 190.11,\n",
              "        190.55, 190.11, 190.36, 191.2 , 190.96, 190.43, 190.47, 190.29,\n",
              "        190.22, 190.29, 190.5 , 190.44, 190.26, 190.31, 190.13, 190.07,\n",
              "        189.86, 189.8 , 189.98, 189.91, 189.52, 189.44, 189.24, 189.15,\n",
              "        189.42, 189.73, 189.42, 189.41, 189.19, 189.18, 189.36, 189.63,\n",
              "        189.53, 189.67, 189.56, 189.88, 189.43, 189.68, 189.52, 189.89,\n",
              "        189.67, 189.39, 189.48, 189.47, 189.72, 189.7 , 189.91, 189.59,\n",
              "        189.52, 189.36, 189.25, 189.36],\n",
              "       [188.3 , 188.22, 188.18, 188.7 , 188.52, 189.57, 190.11, 190.55,\n",
              "        190.11, 190.36, 191.2 , 190.96, 190.43, 190.47, 190.29, 190.22,\n",
              "        190.29, 190.5 , 190.44, 190.26, 190.31, 190.13, 190.07, 189.86,\n",
              "        189.8 , 189.98, 189.91, 189.52, 189.44, 189.24, 189.15, 189.42,\n",
              "        189.73, 189.42, 189.41, 189.19, 189.18, 189.36, 189.63, 189.53,\n",
              "        189.67, 189.56, 189.88, 189.43, 189.68, 189.52, 189.89, 189.67,\n",
              "        189.39, 189.48, 189.47, 189.72, 189.7 , 189.91, 189.59, 189.52,\n",
              "        189.36, 189.25, 189.36, 189.43],\n",
              "       [188.22, 188.18, 188.7 , 188.52, 189.57, 190.11, 190.55, 190.11,\n",
              "        190.36, 191.2 , 190.96, 190.43, 190.47, 190.29, 190.22, 190.29,\n",
              "        190.5 , 190.44, 190.26, 190.31, 190.13, 190.07, 189.86, 189.8 ,\n",
              "        189.98, 189.91, 189.52, 189.44, 189.24, 189.15, 189.42, 189.73,\n",
              "        189.42, 189.41, 189.19, 189.18, 189.36, 189.63, 189.53, 189.67,\n",
              "        189.56, 189.88, 189.43, 189.68, 189.52, 189.89, 189.67, 189.39,\n",
              "        189.48, 189.47, 189.72, 189.7 , 189.91, 189.59, 189.52, 189.36,\n",
              "        189.25, 189.36, 189.43, 189.66],\n",
              "       [188.18, 188.7 , 188.52, 189.57, 190.11, 190.55, 190.11, 190.36,\n",
              "        191.2 , 190.96, 190.43, 190.47, 190.29, 190.22, 190.29, 190.5 ,\n",
              "        190.44, 190.26, 190.31, 190.13, 190.07, 189.86, 189.8 , 189.98,\n",
              "        189.91, 189.52, 189.44, 189.24, 189.15, 189.42, 189.73, 189.42,\n",
              "        189.41, 189.19, 189.18, 189.36, 189.63, 189.53, 189.67, 189.56,\n",
              "        189.88, 189.43, 189.68, 189.52, 189.89, 189.67, 189.39, 189.48,\n",
              "        189.47, 189.72, 189.7 , 189.91, 189.59, 189.52, 189.36, 189.25,\n",
              "        189.36, 189.43, 189.66, 189.54]])"
            ]
          },
          "metadata": {
            "tags": []
          },
          "execution_count": 15
        }
      ]
    },
    {
      "cell_type": "code",
      "metadata": {
        "colab": {
          "base_uri": "https://localhost:8080/"
        },
        "id": "kdxUfr12cWku",
        "outputId": "307b2d85-8160-4981-e03c-31d9645458b0"
      },
      "source": [
        "print(Xm.shape, ym.shape)"
      ],
      "execution_count": null,
      "outputs": [
        {
          "output_type": "stream",
          "text": [
            "(60998, 60) (60998, 6)\n"
          ],
          "name": "stdout"
        }
      ]
    },
    {
      "cell_type": "code",
      "metadata": {
        "id": "qmonMnwmcFzo"
      },
      "source": [
        "Xm_train,Xm_test,ym_train, ym_test = train_test_split(Xm, ym, test_size=0.3, shuffle=False) "
      ],
      "execution_count": null,
      "outputs": []
    },
    {
      "cell_type": "code",
      "metadata": {
        "colab": {
          "base_uri": "https://localhost:8080/"
        },
        "id": "c5wWPuREc4J4",
        "outputId": "1123f00a-c184-445c-cce6-066e9f9b8bc4"
      },
      "source": [
        "print(Xm_train.shape, Xm_test.shape, ym_train.shape, ym_test.shape)"
      ],
      "execution_count": null,
      "outputs": [
        {
          "output_type": "stream",
          "text": [
            "(48814, 40) (12204, 40) (48814, 6) (12204, 6)\n"
          ],
          "name": "stdout"
        }
      ]
    },
    {
      "cell_type": "code",
      "metadata": {
        "colab": {
          "base_uri": "https://localhost:8080/"
        },
        "id": "F5hUrIvHX5aF",
        "outputId": "154fb9e3-99ca-4b3c-c82e-e44074906cb4"
      },
      "source": [
        "df['CLOSE'].head()"
      ],
      "execution_count": null,
      "outputs": [
        {
          "output_type": "execute_result",
          "data": {
            "text/plain": [
              "DATETIME\n",
              "2019-01-03 10:05:00    186.61\n",
              "2019-01-03 10:10:00    186.20\n",
              "2019-01-03 10:15:00    186.30\n",
              "2019-01-03 10:20:00    186.38\n",
              "2019-01-03 10:25:00    186.50\n",
              "Name: CLOSE, dtype: float64"
            ]
          },
          "metadata": {
            "tags": []
          },
          "execution_count": 10
        }
      ]
    },
    {
      "cell_type": "code",
      "metadata": {
        "colab": {
          "base_uri": "https://localhost:8080/"
        },
        "id": "5nuy3MACdUgn",
        "outputId": "f0245302-609d-4352-90cd-0eb37910854d"
      },
      "source": [
        "print(ym_test[:10])"
      ],
      "execution_count": null,
      "outputs": [
        {
          "output_type": "stream",
          "text": [
            "[[226.18 226.1  226.19 225.73 225.5 ]\n",
            " [226.1  226.19 225.73 225.5  225.29]\n",
            " [226.19 225.73 225.5  225.29 225.2 ]\n",
            " [225.73 225.5  225.29 225.2  224.98]\n",
            " [225.5  225.29 225.2  224.98 225.05]\n",
            " [225.29 225.2  224.98 225.05 225.35]\n",
            " [225.2  224.98 225.05 225.35 225.29]\n",
            " [224.98 225.05 225.35 225.29 225.43]\n",
            " [225.05 225.35 225.29 225.43 224.86]\n",
            " [225.35 225.29 225.43 224.86 224.7 ]]\n"
          ],
          "name": "stdout"
        }
      ]
    },
    {
      "cell_type": "code",
      "metadata": {
        "colab": {
          "base_uri": "https://localhost:8080/"
        },
        "id": "LhY2QzdOdZAN",
        "outputId": "eeaaeea9-54da-4865-8919-aa920b7f99bf"
      },
      "source": [
        "print(ym_test[:10:3][:])"
      ],
      "execution_count": null,
      "outputs": [
        {
          "output_type": "stream",
          "text": [
            "[[226.18 226.1  226.19 225.73 225.5 ]\n",
            " [225.29 225.2  224.98 225.05 225.35]]\n"
          ],
          "name": "stdout"
        }
      ]
    },
    {
      "cell_type": "code",
      "metadata": {
        "id": "X0NHdWsGdzEj"
      },
      "source": [
        "ym_test_plt = np.reshape(ym_test[::3], (-1))"
      ],
      "execution_count": null,
      "outputs": []
    },
    {
      "cell_type": "code",
      "metadata": {
        "colab": {
          "base_uri": "https://localhost:8080/"
        },
        "id": "6HVAJ1v7eFM2",
        "outputId": "b48d6cc2-db75-42ad-b48f-9284f6279bb5"
      },
      "source": [
        "ym_test_plt[0]"
      ],
      "execution_count": null,
      "outputs": [
        {
          "output_type": "execute_result",
          "data": {
            "text/plain": [
              "226.6"
            ]
          },
          "metadata": {
            "tags": []
          },
          "execution_count": 12
        }
      ]
    },
    {
      "cell_type": "code",
      "metadata": {
        "colab": {
          "base_uri": "https://localhost:8080/",
          "height": 281
        },
        "id": "AfjErWVPcgWK",
        "outputId": "6b06ef33-2d7a-4ac5-85ac-8314e046fcb7"
      },
      "source": [
        "plt.figure(figsize=(16,4))\r\n",
        "plt.plot(ym_test_plt[:4000])\r\n",
        "plt.plot(ym_test_plt[4000:8000])\r\n",
        "plt.plot(ym_test_plt[8000:])\r\n",
        "plt.legend(['1st','2nd','3th'])\r\n",
        "plt.title('Sberbank stock price')\r\n",
        "plt.show()"
      ],
      "execution_count": null,
      "outputs": [
        {
          "output_type": "display_data",
          "data": {
            "image/png": "[encoded data removed]",
            "text/plain": [
              "<Figure size 1152x288 with 1 Axes>"
            ]
          },
          "metadata": {
            "tags": [],
            "needs_background": "light"
          }
        }
      ]
    },
    {
      "cell_type": "markdown",
      "metadata": {
        "id": "BInelQEhiXR6"
      },
      "source": [
        " **Modeling:**\r\n",
        "\r\n",
        "\r\n",
        "\r\n",
        "\r\n"
      ]
    },
    {
      "cell_type": "code",
      "metadata": {
        "id": "xEGCJEKeiVM9"
      },
      "source": [
        "n_steps_in = 60\r\n",
        "n_steps_out = 6"
      ],
      "execution_count": null,
      "outputs": []
    },
    {
      "cell_type": "code",
      "metadata": {
        "id": "yKMfw8DomJWd"
      },
      "source": [
        "def error(X_test, y_test, model):\r\n",
        "  y_pred = model.predict(X_test)\r\n",
        "  y_pred = np.reshape(y_pred, (y_pred.shape[0], y_pred.shape[1]))\r\n",
        "  error = mse(y_pred, y_test)\r\n",
        "  print(error)\r\n",
        "  return error"
      ],
      "execution_count": null,
      "outputs": []
    },
    {
      "cell_type": "code",
      "metadata": {
        "colab": {
          "base_uri": "https://localhost:8080/",
          "height": 235
        },
        "id": "PWxEHAPLjAhf",
        "outputId": "0c02f204-8bda-4cd4-b3ba-1b4965e80ef6"
      },
      "source": [
        "м# define model 200 0.55 300 0.50, 400 0.41 // 1000, 100: 0.37\r\n",
        "model = Sequential()\r\n",
        "model.add(Dense(1000, activation='relu', input_dim=n_steps_in))\r\n",
        "# model.add(Dropout(0.1))\r\n",
        "model.add(Dense(300, activation='relu'))\r\n",
        "model.add(Dense(200, activation='relu'))\r\n",
        "model.add(Dense(100, activation='relu'))\r\n",
        "# model.add(Dropout(0.2))\r\n",
        "model.add(Dense(n_steps_out))\r\n",
        "model.compile(optimizer='adam', loss='mse', metrics=['accuracy'])\r\n",
        "# fit model\r\n",
        "model.fit(Xm_train, ym_train, epochs=1000, verbose=1, validation_data=(Xm_test, ym_test))\r\n",
        "err_mlp = error(Xm_test, ym_test, model)"
      ],
      "execution_count": null,
      "outputs": [
        {
          "output_type": "error",
          "ename": "NameError",
          "evalue": "ignored",
          "traceback": [
            "\u001b[0;31m---------------------------------------------------------------------------\u001b[0m",
            "\u001b[0;31mNameError\u001b[0m                                 Traceback (most recent call last)",
            "\u001b[0;32m<ipython-input-1-932fa58ac094>\u001b[0m in \u001b[0;36m<module>\u001b[0;34m()\u001b[0m\n\u001b[1;32m      1\u001b[0m \u001b[0;31m# define model 200 0.55 300 0.50, 400 0.41 // 1000, 100: 0.37\u001b[0m\u001b[0;34m\u001b[0m\u001b[0;34m\u001b[0m\u001b[0;34m\u001b[0m\u001b[0m\n\u001b[0;32m----> 2\u001b[0;31m \u001b[0mmodel\u001b[0m \u001b[0;34m=\u001b[0m \u001b[0mSequential\u001b[0m\u001b[0;34m(\u001b[0m\u001b[0;34m)\u001b[0m\u001b[0;34m\u001b[0m\u001b[0;34m\u001b[0m\u001b[0m\n\u001b[0m\u001b[1;32m      3\u001b[0m \u001b[0mmodel\u001b[0m\u001b[0;34m.\u001b[0m\u001b[0madd\u001b[0m\u001b[0;34m(\u001b[0m\u001b[0mDense\u001b[0m\u001b[0;34m(\u001b[0m\u001b[0;36m1000\u001b[0m\u001b[0;34m,\u001b[0m \u001b[0mactivation\u001b[0m\u001b[0;34m=\u001b[0m\u001b[0;34m'relu'\u001b[0m\u001b[0;34m,\u001b[0m \u001b[0minput_dim\u001b[0m\u001b[0;34m=\u001b[0m\u001b[0mn_steps_in\u001b[0m\u001b[0;34m)\u001b[0m\u001b[0;34m)\u001b[0m\u001b[0;34m\u001b[0m\u001b[0;34m\u001b[0m\u001b[0m\n\u001b[1;32m      4\u001b[0m \u001b[0;31m# model.add(Dropout(0.1))\u001b[0m\u001b[0;34m\u001b[0m\u001b[0;34m\u001b[0m\u001b[0;34m\u001b[0m\u001b[0m\n\u001b[1;32m      5\u001b[0m \u001b[0mmodel\u001b[0m\u001b[0;34m.\u001b[0m\u001b[0madd\u001b[0m\u001b[0;34m(\u001b[0m\u001b[0mDense\u001b[0m\u001b[0;34m(\u001b[0m\u001b[0;36m300\u001b[0m\u001b[0;34m,\u001b[0m \u001b[0mactivation\u001b[0m\u001b[0;34m=\u001b[0m\u001b[0;34m'relu'\u001b[0m\u001b[0;34m)\u001b[0m\u001b[0;34m)\u001b[0m\u001b[0;34m\u001b[0m\u001b[0;34m\u001b[0m\u001b[0m\n",
            "\u001b[0;31mNameError\u001b[0m: name 'Sequential' is not defined"
          ]
        }
      ]
    },
    {
      "cell_type": "code",
      "metadata": {
        "id": "Ir-VN8ljnGmi"
      },
      "source": [
        ""
      ],
      "execution_count": null,
      "outputs": []
    },
    {
      "cell_type": "code",
      "metadata": {
        "id": "jmlVIHXhkJh4"
      },
      "source": [
        "n_features = 1\r\n",
        "Xmr_train = Xm_train.reshape((Xm_train.shape[0], Xm_train.shape[1], n_features))\r\n",
        "Xmr_test = Xm_test.reshape((Xm_test.shape[0], Xm_test.shape[1], n_features))\r\n"
      ],
      "execution_count": null,
      "outputs": []
    },
    {
      "cell_type": "code",
      "metadata": {
        "colab": {
          "base_uri": "https://localhost:8080/"
        },
        "id": "trozOz-clwG1",
        "outputId": "126f6828-19a0-46fd-c1fd-cac24d8f3f17"
      },
      "source": [
        "# define model\r\n",
        "model_cnn = Sequential()\r\n",
        "model_cnn.add(Conv1D(64, 2, activation='relu', input_shape=(n_steps_in, n_features)))\r\n",
        "model_cnn.add(MaxPooling1D())\r\n",
        "model_cnn.add(Flatten())\r\n",
        "model_cnn.add(Dense(20, activation='relu'))\r\n",
        "model_cnn.add(Dense(n_steps_out))\r\n",
        "model_cnn.compile(optimizer='adam', loss='mse')\r\n",
        "model_cnn.fit(Xmr_train, ym_train, epochs=10, verbose=1)\r\n",
        "err_cnn = error(Xmr_test, ym_test, model_cnn)\r\n"
      ],
      "execution_count": null,
      "outputs": [
        {
          "output_type": "stream",
          "text": [
            "Epoch 1/10\n",
            "1526/1526 [==============================] - 5s 3ms/step - loss: 754.1460\n",
            "Epoch 2/10\n",
            "1526/1526 [==============================] - 4s 3ms/step - loss: 2.0000\n",
            "Epoch 3/10\n",
            "1526/1526 [==============================] - 4s 3ms/step - loss: 2.1222\n",
            "Epoch 4/10\n",
            "1526/1526 [==============================] - 4s 3ms/step - loss: 3.3625\n",
            "Epoch 5/10\n",
            "1526/1526 [==============================] - 4s 3ms/step - loss: 2.0321\n",
            "Epoch 6/10\n",
            "1526/1526 [==============================] - 4s 3ms/step - loss: 2.3020\n",
            "Epoch 7/10\n",
            "1526/1526 [==============================] - 4s 3ms/step - loss: 1.5987\n",
            "Epoch 8/10\n",
            "1526/1526 [==============================] - 4s 3ms/step - loss: 1.4489\n",
            "Epoch 9/10\n",
            "1526/1526 [==============================] - 4s 3ms/step - loss: 1.5362\n",
            "Epoch 10/10\n",
            "1526/1526 [==============================] - 4s 3ms/step - loss: 1.4170\n",
            "1.2397898497847193\n"
          ],
          "name": "stdout"
        }
      ]
    },
    {
      "cell_type": "code",
      "metadata": {
        "id": "OoTAEt5Kf0qM"
      },
      "source": [
        ""
      ],
      "execution_count": null,
      "outputs": []
    },
    {
      "cell_type": "code",
      "metadata": {
        "colab": {
          "base_uri": "https://localhost:8080/"
        },
        "id": "ccESMPUOJb5L",
        "outputId": "78abfda6-0395-474a-e925-6b0e2ca6997f"
      },
      "source": [
        "print(Xmr_test.shape, ym_test.shape)"
      ],
      "execution_count": null,
      "outputs": [
        {
          "output_type": "stream",
          "text": [
            "(12205, 40, 1) (12205, 3)\n"
          ],
          "name": "stdout"
        }
      ]
    },
    {
      "cell_type": "code",
      "metadata": {
        "colab": {
          "base_uri": "https://localhost:8080/"
        },
        "id": "OIUkFRVbjXk1",
        "outputId": "9530cf98-531f-4291-818e-555e01c529c5"
      },
      "source": [
        "# define model\r\n",
        "model_lstm = Sequential()\r\n",
        "model_lstm.add(LSTM(50, activation='relu', return_sequences, input_shape=(n_steps_in,\r\n",
        "n_features)))\r\n",
        "model_lstm.add(Dense(n_steps_out))\r\n",
        "model_lstm.compile(optimizer='adam', loss='mse')\r\n",
        "model_lstm.fit(Xmr_train, ym_train, epochs=10, verbose=1)\r\n",
        "err_lstm = error(Xmr_test, ym_test, model_lstm)\r\n"
      ],
      "execution_count": null,
      "outputs": [
        {
          "output_type": "stream",
          "text": [
            "Epoch 1/10\n",
            "1526/1526 [==============================] - 56s 35ms/step - loss: 28149.5076\n",
            "Epoch 2/10\n",
            "1526/1526 [==============================] - 55s 36ms/step - loss: 26.1210\n",
            "Epoch 3/10\n",
            "1526/1526 [==============================] - 54s 35ms/step - loss: 7.0518\n",
            "Epoch 4/10\n",
            "1526/1526 [==============================] - 55s 36ms/step - loss: 4.1430\n",
            "Epoch 5/10\n",
            "1526/1526 [==============================] - 54s 36ms/step - loss: 2.8589\n",
            "Epoch 6/10\n",
            "1526/1526 [==============================] - 55s 36ms/step - loss: 7290.0487\n",
            "Epoch 7/10\n",
            "1526/1526 [==============================] - 55s 36ms/step - loss: 9.4154\n",
            "Epoch 8/10\n",
            "1526/1526 [==============================] - 56s 36ms/step - loss: 13.1837\n",
            "Epoch 9/10\n",
            "1526/1526 [==============================] - 55s 36ms/step - loss: 9.2103\n",
            "Epoch 10/10\n",
            "1526/1526 [==============================] - 55s 36ms/step - loss: 6.7345\n",
            "10.539681913416318\n"
          ],
          "name": "stdout"
        }
      ]
    },
    {
      "cell_type": "code",
      "metadata": {
        "colab": {
          "base_uri": "https://localhost:8080/",
          "height": 235
        },
        "id": "UckheqYJ_4qk",
        "outputId": "f8b2dfc8-fbaa-4fd5-f05d-d179acf8ed47"
      },
      "source": [
        "# define model\r\n",
        "model_ed = Sequential()\r\n",
        "model_ed.add(LSTM(100, activation='relu', input_shape=(n_steps_in, n_features)))\r\n",
        "model_ed.add(RepeatVector(n_steps_out))\r\n",
        "model_ed.add(LSTM(50, activation='relu', return_sequences=True))\r\n",
        "model_ed.add(TimeDistributed(Dense(n_steps_out)))\r\n",
        "model_ed.compile(optimizer='adam', loss='mse')\r\n",
        "model_ed.fit(Xmr_train, ym_train, epochs=5, verbose=1)\r\n",
        "err_ed = error(Xmr_test, ym_test, model_ed)"
      ],
      "execution_count": null,
      "outputs": [
        {
          "output_type": "error",
          "ename": "NameError",
          "evalue": "ignored",
          "traceback": [
            "\u001b[0;31m---------------------------------------------------------------------------\u001b[0m",
            "\u001b[0;31mNameError\u001b[0m                                 Traceback (most recent call last)",
            "\u001b[0;32m<ipython-input-1-f96efc67fe67>\u001b[0m in \u001b[0;36m<module>\u001b[0;34m()\u001b[0m\n\u001b[1;32m      1\u001b[0m \u001b[0;31m# define model\u001b[0m\u001b[0;34m\u001b[0m\u001b[0;34m\u001b[0m\u001b[0;34m\u001b[0m\u001b[0m\n\u001b[0;32m----> 2\u001b[0;31m \u001b[0mmodel_ed\u001b[0m \u001b[0;34m=\u001b[0m \u001b[0mSequential\u001b[0m\u001b[0;34m(\u001b[0m\u001b[0;34m)\u001b[0m\u001b[0;34m\u001b[0m\u001b[0;34m\u001b[0m\u001b[0m\n\u001b[0m\u001b[1;32m      3\u001b[0m \u001b[0mmodel_ed\u001b[0m\u001b[0;34m.\u001b[0m\u001b[0madd\u001b[0m\u001b[0;34m(\u001b[0m\u001b[0mLSTM\u001b[0m\u001b[0;34m(\u001b[0m\u001b[0;36m100\u001b[0m\u001b[0;34m,\u001b[0m \u001b[0mactivation\u001b[0m\u001b[0;34m=\u001b[0m\u001b[0;34m'relu'\u001b[0m\u001b[0;34m,\u001b[0m \u001b[0minput_shape\u001b[0m\u001b[0;34m=\u001b[0m\u001b[0;34m(\u001b[0m\u001b[0mn_steps_in\u001b[0m\u001b[0;34m,\u001b[0m \u001b[0mn_features\u001b[0m\u001b[0;34m)\u001b[0m\u001b[0;34m)\u001b[0m\u001b[0;34m)\u001b[0m\u001b[0;34m\u001b[0m\u001b[0;34m\u001b[0m\u001b[0m\n\u001b[1;32m      4\u001b[0m \u001b[0mmodel_ed\u001b[0m\u001b[0;34m.\u001b[0m\u001b[0madd\u001b[0m\u001b[0;34m(\u001b[0m\u001b[0mRepeatVector\u001b[0m\u001b[0;34m(\u001b[0m\u001b[0mn_steps_out\u001b[0m\u001b[0;34m)\u001b[0m\u001b[0;34m)\u001b[0m\u001b[0;34m\u001b[0m\u001b[0;34m\u001b[0m\u001b[0m\n\u001b[1;32m      5\u001b[0m \u001b[0mmodel_ed\u001b[0m\u001b[0;34m.\u001b[0m\u001b[0madd\u001b[0m\u001b[0;34m(\u001b[0m\u001b[0mLSTM\u001b[0m\u001b[0;34m(\u001b[0m\u001b[0;36m50\u001b[0m\u001b[0;34m,\u001b[0m \u001b[0mactivation\u001b[0m\u001b[0;34m=\u001b[0m\u001b[0;34m'relu'\u001b[0m\u001b[0;34m,\u001b[0m \u001b[0mreturn_sequences\u001b[0m\u001b[0;34m=\u001b[0m\u001b[0;32mTrue\u001b[0m\u001b[0;34m)\u001b[0m\u001b[0;34m)\u001b[0m\u001b[0;34m\u001b[0m\u001b[0;34m\u001b[0m\u001b[0m\n",
            "\u001b[0;31mNameError\u001b[0m: name 'Sequential' is not defined"
          ]
        }
      ]
    },
    {
      "cell_type": "code",
      "metadata": {
        "colab": {
          "base_uri": "https://localhost:8080/"
        },
        "id": "tz2gQR5MyjVq",
        "outputId": "01a2b387-0baa-4f22-e6e4-4cffb86a10cb"
      },
      "source": [
        "# define model\r\n",
        "model_ed2 = Sequential()\r\n",
        "model_ed2.add(LSTM(100, activation='relu', input_shape=(n_steps_in, n_features)))\r\n",
        "model_ed2.add(RepeatVector(n_steps_out))\r\n",
        "model_ed2.add(LSTM(50, activation='relu', return_sequences=True))\r\n",
        "model_ed2.add(TimeDistributed(Dense(50)))\r\n",
        "model_ed2.add(Dropout(0.2))\r\n",
        "model_ed2.add(Dense(3))\r\n",
        "model_ed2.compile(optimizer='adam', loss='mse')\r\n",
        "model_ed2.fit(Xmr_train, ym_train, epochs=10, verbose=1)\r\n",
        "err_ed2 = error(Xmr_test, ym_test, model_ed2)"
      ],
      "execution_count": null,
      "outputs": [
        {
          "output_type": "stream",
          "text": [
            "Epoch 1/10\n",
            "1526/1526 [==============================] - 51s 32ms/step - loss: 34170.7466\n",
            "Epoch 2/10\n",
            "1526/1526 [==============================] - 49s 32ms/step - loss: 8.0394\n",
            "Epoch 3/10\n",
            "1526/1526 [==============================] - 47s 31ms/step - loss: 5.3583\n",
            "Epoch 4/10\n",
            "1526/1526 [==============================] - 48s 31ms/step - loss: 4.8423\n",
            "Epoch 5/10\n",
            "1526/1526 [==============================] - 48s 31ms/step - loss: 5.1280\n",
            "Epoch 6/10\n",
            "1526/1526 [==============================] - 48s 32ms/step - loss: 5.5112\n",
            "Epoch 7/10\n",
            "1526/1526 [==============================] - 49s 32ms/step - loss: 9.7668\n",
            "Epoch 8/10\n",
            "1526/1526 [==============================] - 48s 32ms/step - loss: 5.3765\n",
            "Epoch 9/10\n",
            "1526/1526 [==============================] - 49s 32ms/step - loss: 5.9697\n",
            "Epoch 10/10\n",
            "1526/1526 [==============================] - 48s 32ms/step - loss: 5.5252\n",
            "4.551816041966131\n"
          ],
          "name": "stdout"
        }
      ]
    },
    {
      "cell_type": "code",
      "metadata": {
        "colab": {
          "base_uri": "https://localhost:8080/"
        },
        "id": "5STSLUbKJ6Y2",
        "outputId": "1d2698a2-4e95-4e2c-dfe0-386edd7439f9"
      },
      "source": [
        "y_pred_ed = model_ed.predict(Xmr_test)\r\n",
        "print(y_pred_ed.shape, ym_test.shape)\r\n",
        "er = mse(np.reshape(y_pred_ed, (y_pred_ed.shape[0], y_pred_ed.shape[1])), ym_test)\r\n",
        "print(er)"
      ],
      "execution_count": null,
      "outputs": [
        {
          "output_type": "stream",
          "text": [
            "(12205, 3, 1) (12205, 3)\n",
            "57670.65789884065\n"
          ],
          "name": "stdout"
        }
      ]
    },
    {
      "cell_type": "code",
      "metadata": {
        "id": "-VRfP1LfW4mj"
      },
      "source": [
        "def y_to_plot(y):\r\n",
        "  y = np.reshape(y[::3], (-1))\r\n",
        "  return y"
      ],
      "execution_count": null,
      "outputs": []
    },
    {
      "cell_type": "code",
      "metadata": {
        "colab": {
          "base_uri": "https://localhost:8080/"
        },
        "id": "JoZtulknSh3r",
        "outputId": "80595f70-a336-4b87-d552-f793ac28dbf1"
      },
      "source": [
        "y_pred1 = model.predict(Xm_test)\r\n",
        "ym_test[:10]"
      ],
      "execution_count": null,
      "outputs": [
        {
          "output_type": "execute_result",
          "data": {
            "text/plain": [
              "array([[226.1 , 226.19, 225.73],\n",
              "       [226.19, 225.73, 225.5 ],\n",
              "       [225.73, 225.5 , 225.29],\n",
              "       [225.5 , 225.29, 225.2 ],\n",
              "       [225.29, 225.2 , 224.98],\n",
              "       [225.2 , 224.98, 225.05],\n",
              "       [224.98, 225.05, 225.35],\n",
              "       [225.05, 225.35, 225.29],\n",
              "       [225.35, 225.29, 225.43],\n",
              "       [225.29, 225.43, 224.86]])"
            ]
          },
          "metadata": {
            "tags": []
          },
          "execution_count": 122
        }
      ]
    },
    {
      "cell_type": "code",
      "metadata": {
        "colab": {
          "base_uri": "https://localhost:8080/"
        },
        "id": "nxX0tjoOTxfd",
        "outputId": "970bb9d1-64eb-4377-9f0d-c671bb4fa085"
      },
      "source": [
        "ym_test[:10]"
      ],
      "execution_count": null,
      "outputs": [
        {
          "output_type": "execute_result",
          "data": {
            "text/plain": [
              "array([[226.1 , 226.19, 225.73],\n",
              "       [226.19, 225.73, 225.5 ],\n",
              "       [225.73, 225.5 , 225.29],\n",
              "       [225.5 , 225.29, 225.2 ],\n",
              "       [225.29, 225.2 , 224.98],\n",
              "       [225.2 , 224.98, 225.05],\n",
              "       [224.98, 225.05, 225.35],\n",
              "       [225.05, 225.35, 225.29],\n",
              "       [225.35, 225.29, 225.43],\n",
              "       [225.29, 225.43, 224.86]])"
            ]
          },
          "metadata": {
            "tags": []
          },
          "execution_count": 124
        }
      ]
    },
    {
      "cell_type": "code",
      "metadata": {
        "colab": {
          "base_uri": "https://localhost:8080/"
        },
        "id": "HaHjtdWZS-2D",
        "outputId": "19ee7484-c5f6-461f-e5c1-2eb57271bb24"
      },
      "source": [
        "ym_test_plt = np.reshape(ym_test[::3], (-1))\r\n",
        "ym_test_plt"
      ],
      "execution_count": null,
      "outputs": [
        {
          "output_type": "execute_result",
          "data": {
            "text/plain": [
              "array([226.1 , 226.19, 225.73, ..., 281.78, 282.24, 281.87])"
            ]
          },
          "metadata": {
            "tags": []
          },
          "execution_count": 127
        }
      ]
    },
    {
      "cell_type": "code",
      "metadata": {
        "id": "JQ_ImOD3X7zN"
      },
      "source": [
        "ym_pred_ed = model_ed.predict(Xmr_test)"
      ],
      "execution_count": null,
      "outputs": []
    },
    {
      "cell_type": "code",
      "metadata": {
        "id": "UzwAWKMLkIDW"
      },
      "source": [
        "model, model_cnn, model_lstm, model_ed"
      ],
      "execution_count": null,
      "outputs": []
    },
    {
      "cell_type": "code",
      "metadata": {
        "id": "1FJiOSO9kTDa"
      },
      "source": [
        "ym_pred_mlp = model.predict(Xm_test)\r\n",
        "ym_pred_cnn = model_cnn.predict(Xm_CNN_test)\r\n",
        "ym_pred_lstm = model_lstm.predict(Xmr_test)\r\n",
        "ym_pred_ed = model_ed.predict(Xmr_test)\r\n"
      ],
      "execution_count": null,
      "outputs": []
    },
    {
      "cell_type": "code",
      "metadata": {
        "id": "y1xRVLBqlryO"
      },
      "source": [
        "original_plot = y_to_plot(ym_test)\r\n",
        "mlp_plot = y_to_plot(ym_pred_mlp)\r\n",
        "cnn_plot = y_to_plot(ym_pred_cnn)\r\n",
        "lstm_plot = y_to_plot(ym_pred_lstm)\r\n",
        "ed_plot = y_to_plot(ym_pred_ed)"
      ],
      "execution_count": null,
      "outputs": []
    },
    {
      "cell_type": "code",
      "metadata": {
        "id": "16-Sdd5RqDrR"
      },
      "source": [
        "ym_pred_lstm = np.reshape(ym_pred_lstm, (ym_pred_lstm.shape[0], ym_pred_lstm.shape[1]))\r\n",
        "ym_pred_ed = np.reshape(ym_pred_ed, (ym_pred_ed.shape[0], ym_pred_lstm.shape[1]))"
      ],
      "execution_count": null,
      "outputs": []
    },
    {
      "cell_type": "code",
      "metadata": {
        "colab": {
          "base_uri": "https://localhost:8080/"
        },
        "id": "XNuzSd35nl1e",
        "outputId": "df628310-c5a8-4573-ae2e-94cf5509604b"
      },
      "source": [
        "ym_pred_cnn.shape"
      ],
      "execution_count": null,
      "outputs": [
        {
          "output_type": "execute_result",
          "data": {
            "text/plain": [
              "(12204, 3)"
            ]
          },
          "metadata": {
            "tags": []
          },
          "execution_count": 167
        }
      ]
    },
    {
      "cell_type": "code",
      "metadata": {
        "colab": {
          "base_uri": "https://localhost:8080/"
        },
        "id": "2Y8kgdZhnsM0",
        "outputId": "38db875e-7b13-4ca6-d064-64e09716052d"
      },
      "source": [
        "ym_test.shape"
      ],
      "execution_count": null,
      "outputs": [
        {
          "output_type": "execute_result",
          "data": {
            "text/plain": [
              "(12205, 3)"
            ]
          },
          "metadata": {
            "tags": []
          },
          "execution_count": 168
        }
      ]
    },
    {
      "cell_type": "code",
      "metadata": {
        "colab": {
          "base_uri": "https://localhost:8080/",
          "height": 351
        },
        "id": "QvLtVryyV8ft",
        "outputId": "cde9a99b-5801-4828-d362-24a5db5a6cd5"
      },
      "source": [
        "# y_pred = model.predict(X_test, verbose=0)\r\n",
        "print(\"Error mlp: \", mse(ym_pred_mlp, ym_test))\r\n",
        "print(\"Error CNN: \", mse(ym_pred_cnn, ym_test[:-1]))\r\n",
        "print(\"Error: LSTM \", mse(ym_pred_lstm, ym_test))\r\n",
        "print(\"Error: Encoder-Decoder LSTM \", mse(ym_pred_ed, ym_test))\r\n",
        "plt.figure(figsize=(15,4))\r\n",
        "\r\n",
        "plt.plot(mlp_plot[:150])\r\n",
        "plt.plot(cnn_plot[:150])\r\n",
        "plt.plot(lstm_plot[:150])\r\n",
        "plt.plot(ed_plot[:150])\r\n",
        "plt.plot(original_plot[:150], 'b-')\r\n",
        "plt.legend(['MLP', 'CNN', 'LSTM','Encoder-Decoder LSTM','Original'])\r\n",
        "plt.title('Sberbank stock price')\r\n",
        "plt.show()"
      ],
      "execution_count": null,
      "outputs": [
        {
          "output_type": "stream",
          "text": [
            "Error mlp:  13.826676875916036\n",
            "Error CNN:  1.3540791566149852\n",
            "Error: LSTM  10.539681913416318\n",
            "Error: Encoder-Decoder LSTM  0.9510281790407946\n"
          ],
          "name": "stdout"
        },
        {
          "output_type": "display_data",
          "data": {
            "image/png": "[encoded data removed]",
            "text/plain": [
              "<Figure size 1080x288 with 1 Axes>"
            ]
          },
          "metadata": {
            "tags": [],
            "needs_background": "light"
          }
        }
      ]
    }
  ]
}
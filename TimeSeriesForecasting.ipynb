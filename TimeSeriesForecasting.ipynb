{
  "nbformat": 4,
  "nbformat_minor": 0,
  "metadata": {
    "colab": {
      "name": "TimeSeriesForecasting.ipynb",
      "provenance": [],
      "collapsed_sections": [],
      "toc_visible": true,
      "mount_file_id": "1VV58cCOd-LLX2oo6u5rrjlB_odzJWSjG",
      "authorship_tag": "ABX9TyM6vZNxwWlL5CpwDP+OvU1+",
      "include_colab_link": true
    },
    "kernelspec": {
      "display_name": "Python 3",
      "name": "python3"
    },
    "language_info": {
      "name": "python"
    }
  },
  "cells": [
    {
      "cell_type": "markdown",
      "metadata": {
        "id": "view-in-github",
        "colab_type": "text"
      },
      "source": [
        "<a href=\"https://colab.research.google.com/github/HalcyonForest/Time-Series-Forecasting/blob/main/TimeSeriesForecasting.ipynb\" target=\"_parent\"><img src=\"https://colab.research.google.com/assets/colab-badge.svg\" alt=\"Open In Colab\"/></a>"
      ]
    },
    {
      "cell_type": "code",
      "metadata": {
        "colab": {
          "base_uri": "https://localhost:8080/"
        },
        "id": "qQ9Fkh6jTNHr",
        "outputId": "075505fe-e09d-4b20-ce73-02c0b8189b60"
      },
      "source": [
        "import tensorflow\n",
        "import random\n",
        "import xgboost as xgb\n",
        "import pandas as pd\n",
        "import numpy as np\n",
        "import tensorflow as tf\n",
        "import matplotlib.pyplot as plt\n",
        "from sklearn.preprocessing import MinMaxScaler\n",
        "from tensorflow.keras.preprocessing.sequence import TimeseriesGenerator # Generates batches for sequence data\n",
        "from tensorflow.keras.models import Sequential\n",
        "from tensorflow.keras.layers import Dense,SimpleRNN,LSTM, Dropout, BatchNormalization\n",
        "from tensorflow.keras.callbacks import EarlyStopping\n",
        "from keras.layers import RepeatVector\n",
        "from keras import optimizers\n",
        "from keras.layers import Bidirectional\n",
        "from tensorflow.keras import regularizers\n",
        "from keras.regularizers import l2\n",
        "from keras.layers import Flatten\n",
        "from keras.layers import TimeDistributed\n",
        "from keras.layers.convolutional import Conv1D\n",
        "from keras.layers.convolutional import MaxPooling1D\n",
        "from sklearn.preprocessing import MinMaxScaler\n",
        "from sklearn.preprocessing import StandardScaler\n",
        "from sklearn.metrics import mean_squared_error\n",
        "from sklearn.metrics import mean_absolute_error\n",
        "from sklearn.utils import shuffle\n",
        "from sklearn.model_selection import train_test_split\n",
        "from sklearn.metrics import mean_squared_error as mse\n",
        "from sklearn.linear_model import LogisticRegression\n",
        "from sklearn.ensemble import RandomForestRegressor\n",
        "from sklearn.linear_model import LinearRegression\n",
        "!wget https://launchpad.net/~mario-mariomedina/+archive/ubuntu/talib/+files/libta-lib0_0.4.0-oneiric1_amd64.deb -qO libta.deb\n",
        "!wget https://launchpad.net/~mario-mariomedina/+archive/ubuntu/talib/+files/ta-lib0-dev_0.4.0-oneiric1_amd64.deb -qO ta.deb\n",
        "!dpkg -i libta.deb ta.deb\n",
        "!pip install ta-lib\n",
        "import talib"
      ],
      "execution_count": 3,
      "outputs": [
        {
          "output_type": "stream",
          "text": [
            "Selecting previously unselected package libta-lib0.\n",
            "(Reading database ... 160772 files and directories currently installed.)\n",
            "Preparing to unpack libta.deb ...\n",
            "Unpacking libta-lib0 (0.4.0-oneiric1) ...\n",
            "Selecting previously unselected package ta-lib0-dev.\n",
            "Preparing to unpack ta.deb ...\n",
            "Unpacking ta-lib0-dev (0.4.0-oneiric1) ...\n",
            "Setting up libta-lib0 (0.4.0-oneiric1) ...\n",
            "Setting up ta-lib0-dev (0.4.0-oneiric1) ...\n",
            "Processing triggers for man-db (2.8.3-2ubuntu0.1) ...\n",
            "Processing triggers for libc-bin (2.27-3ubuntu1.2) ...\n",
            "/sbin/ldconfig.real: /usr/local/lib/python3.7/dist-packages/ideep4py/lib/libmkldnn.so.0 is not a symbolic link\n",
            "\n",
            "Collecting ta-lib\n",
            "\u001b[?25l  Downloading https://files.pythonhosted.org/packages/1f/fd/cb3b4255f2639e3478d75750d06e0d8f3342d7f8f28e8d855198769d3ede/TA-Lib-0.4.20.tar.gz (266kB)\n",
            "\u001b[K     |████████████████████████████████| 276kB 3.9MB/s \n",
            "\u001b[?25hRequirement already satisfied: numpy in /usr/local/lib/python3.7/dist-packages (from ta-lib) (1.19.5)\n",
            "Building wheels for collected packages: ta-lib\n",
            "  Building wheel for ta-lib (setup.py) ... \u001b[?25l\u001b[?25hdone\n",
            "  Created wheel for ta-lib: filename=TA_Lib-0.4.20-cp37-cp37m-linux_x86_64.whl size=1436218 sha256=3f9a31a3629d08bc94d6b61ac2575e77edd90f0e0ec573e0e8d2aed96b24b71a\n",
            "  Stored in directory: /root/.cache/pip/wheels/d9/2f/34/7636a227222011ad010012e6bdf3a2abfaf1da255d9bdd532b\n",
            "Successfully built ta-lib\n",
            "Installing collected packages: ta-lib\n",
            "Successfully installed ta-lib-0.4.20\n"
          ],
          "name": "stdout"
        }
      ]
    },
    {
      "cell_type": "markdown",
      "metadata": {
        "id": "Fw58km-T40AU"
      },
      "source": [
        "# Functions_1"
      ]
    },
    {
      "cell_type": "code",
      "metadata": {
        "id": "xhw9pKwJTcne"
      },
      "source": [
        "def split_sequences(sequences, n_steps_in, n_steps_out):\n",
        "  X, y = list(), list()\n",
        "  for i in range(len(sequences)):\n",
        "  # find the end of this pattern\n",
        "    end_ix = i + n_steps_in\n",
        "    out_end_ix = end_ix + n_steps_out-1\n",
        "  # check if we are beyond the dataset\n",
        "    if out_end_ix > len(sequences):\n",
        "      break\n",
        "    # gather input and output parts of the pattern\n",
        "    seq_x, seq_y = sequences[i:end_ix, :-1], sequences[end_ix-1:out_end_ix, -1]\n",
        "    X.append(seq_x)\n",
        "    y.append(seq_y)\n",
        "  return np.array(X), np.array(y)\n",
        "\n",
        "def tickSlicing(data, tickRate, windowSize, predictSize, label):\n",
        "  data = data[::tickRate]\n",
        "\n",
        "  X = np.reshape(np.array(data[label]), (len(data[label]),-1))\n",
        "  Y = np.reshape(np.array(data[label]), (len(data[label]), -1))\n",
        "\n",
        "  data = []\n",
        "  data = np.hstack((X, Y))\n",
        "  # Переделать под слайсинг двух параметров - Close + vol upd:DONE\n",
        "  X, y = split_sequences(data, windowSize, predictSize)\n",
        "  # посплитили, добавляем фичи\n",
        "  return X, y\n",
        "\n",
        "def y_to_plot(y, y_step):\n",
        "  y = np.reshape(y[::y_step], (-1))\n",
        "  return y\n",
        "\n",
        "def window_predict_in_seconds(tickrate, window, horizon):\n",
        "  print(\"Смотрим каждый \", tickrate, \"-ый тик, за последние \",tickrate * window ,\"минут\")\n",
        "  print(\"предсказываем на \",tickrate * horizon ,\" минут вперед\")\n",
        "\n",
        "def plot_history(history_arr):\n",
        "  for history in history_arr:\n",
        "    plt.figure(figsize=(6,3))\n",
        "    plt.plot(history.history['loss'])\n",
        "    plt.plot(history.history['val_loss'])\n",
        "    plt.legend(['train', 'validation'])\n",
        "    plt.title('Loss')\n",
        "    plt.show()\n",
        "\n",
        "def percentage_error(actual, predicted):\n",
        "    res = np.empty(actual.shape)\n",
        "    for j in range(actual.shape[0]):\n",
        "        if actual[j] != 0:\n",
        "            res[j] = (actual[j] - predicted[j]) / actual[j]\n",
        "        else:\n",
        "            res[j] = predicted[j] / np.mean(actual)\n",
        "    return res\n",
        "\n",
        "def mean_absolute_percentage_error(y_true, y_pred): \n",
        "    return np.mean(np.abs(percentage_error(np.asarray(y_true), np.asarray(y_pred)))) * 100\n",
        "\n",
        "\n",
        "def metrics(y_test, y_pred):\n",
        "  print(\"MSE: \", mean_squared_error(y_test, y_pred) )\n",
        "  print(\"MAE: \", mean_absolute_error(y_test, y_pred))\n",
        "  print(\"MAPE\", mean_absolute_percentage_error(y_test, y_pred))\n"
      ],
      "execution_count": 4,
      "outputs": []
    },
    {
      "cell_type": "markdown",
      "metadata": {
        "id": "3_3fny9D43Zf"
      },
      "source": [
        "# Load and prepare data"
      ]
    },
    {
      "cell_type": "code",
      "metadata": {
        "id": "2GDq4bvcV8D1"
      },
      "source": [
        "df = pd.read_csv('/content/drive/MyDrive/Binance_BTCUSDT_minute.csv')\n",
        "#df = pd.read_csv('/content/drive/MyDrive/Binance_ETHUSDT_minute.csv')\n",
        "windowSize = 10\n",
        "n_steps_out = 1\n",
        "df.index = df['date']\n",
        "\n",
        "df = df.rename(columns={'Volume USDT':'volume'})\n",
        "# df = df.rename(columns={'Volume USDT':'volume'})\n",
        "df = df.sort_index(ascending=True)\n",
        "#print(df.head())\n",
        "df = df.iloc[-200000:]\n",
        "df = df.drop(columns=['unix', 'symbol', 'date'])\n",
        "#df=df.drop(columns=[])\n",
        "#print(df.head())\n",
        "CLOSE = df['close']"
      ],
      "execution_count": 5,
      "outputs": []
    },
    {
      "cell_type": "code",
      "metadata": {
        "colab": {
          "base_uri": "https://localhost:8080/",
          "height": 283
        },
        "id": "-v9HeD6CuzVw",
        "outputId": "27ea0112-3c46-4954-d96d-3bc48cff80b9"
      },
      "source": [
        "plt.plot(range(len(df['close'])) , df['close'].values) # Non stationary time series"
      ],
      "execution_count": 4,
      "outputs": [
        {
          "output_type": "execute_result",
          "data": {
            "text/plain": [
              "[<matplotlib.lines.Line2D at 0x7f2bea4d3210>]"
            ]
          },
          "metadata": {
            "tags": []
          },
          "execution_count": 4
        },
        {
          "output_type": "display_data",
          "data": {
            "image/png": "[encoded data removed]",
            "text/plain": [
              "<Figure size 432x288 with 1 Axes>"
            ]
          },
          "metadata": {
            "tags": [],
            "needs_background": "light"
          }
        }
      ]
    },
    {
      "cell_type": "code",
      "metadata": {
        "colab": {
          "base_uri": "https://localhost:8080/",
          "height": 283
        },
        "id": "VJXSMf-55OGZ",
        "outputId": "0212c089-c6b1-4b47-f564-d987f3fd8cf5"
      },
      "source": [
        "plt.plot(range(len(df['close'])) , df['close'].diff().values) # Stationary time series"
      ],
      "execution_count": 5,
      "outputs": [
        {
          "output_type": "execute_result",
          "data": {
            "text/plain": [
              "[<matplotlib.lines.Line2D at 0x7f2be87830d0>]"
            ]
          },
          "metadata": {
            "tags": []
          },
          "execution_count": 5
        },
        {
          "output_type": "display_data",
          "data": {
            "image/png": "[encoded data removed]",
            "text/plain": [
              "<Figure size 432x288 with 1 Axes>"
            ]
          },
          "metadata": {
            "tags": [],
            "needs_background": "light"
          }
        }
      ]
    },
    {
      "cell_type": "code",
      "metadata": {
        "id": "dvaVoxr7V_1T"
      },
      "source": [
        "tech_features = pd.DataFrame()\n",
        "\n",
        "tech_features['MA'] = talib.MA(df['close'], matype=2)\n",
        "tech_features['EMA'] = talib.EMA(df['close'])\n",
        "\n",
        "tech_features['MIDPOINT'] = talib.MIDPOINT(df['close'],timeperiod=windowSize)\n",
        "tech_features['UPPERBAND'], tech_features['MIDDLEBAND'], tech_features['LOWERBAND'] = talib.BBANDS(df['close'],timeperiod=windowSize)\n",
        "tech_features['KAMA'] = talib.KAMA(df['close'], timeperiod=199)\n",
        "\n",
        "# PPO                  Percentage Price Oscillator\n",
        "# ROC                  Rate of change : ((price/prevPrice)-1)*100\n",
        "# ROCP                 Rate of change Percentage: (price-prevPrice)/prevPrice\n",
        "# RSI                  Relative Strength Index\n",
        "# TRIX                 1-day Rate-Of-Change (ROC) of a Triple Smooth EMA\n",
        "\n",
        "tech_features['TRIX'] = talib.TRIX(df['close'])\n",
        "tech_features['RSI'] = talib.RSI(df['close'])\n",
        "tech_features['ROC'] = talib.ROC(df['close'])\n",
        "tech_features['ROCP'] = talib.ROCP(df['close'])\n",
        "tech_features['PPO'] = talib.PPO(df['close'])\n",
        "\n",
        "tech_features['TRIMA'] = talib.TRIMA(df['close'])\n",
        "tech_features['SAR'] = talib.SAR(df['high'], df['low'])\n",
        "tech_features['ADX'] = talib.ADX(df['high'], df['low'], df['close'])\n",
        "tech_features['APO'] = talib.APO(df['close'])\n",
        "tech_features['CMO'] = talib.CMO(df['close'])\n",
        "tech_features['DX'] = talib.DX(df['high'], df['low'], df['close'])\n",
        "tech_features['MFI'] = talib.MFI(df['high'], df['low'], df['close'], df['volume'])\n",
        "tech_features['MOM'] = talib.MOM(df['close'])\n",
        "\n",
        "tech_features['ULTOSC'] = talib.ULTOSC(df['high'], df['low'], df['close'])\n",
        "\n",
        "tech_features['AD'] = talib.AD(df['high'], df['low'], df['close'], df['volume'])\n",
        "tech_features['ADOSC'] = talib.ADOSC(df['high'], df['low'], df['close'], df['volume'])\n",
        "tech_features['OBV'] = talib.OBV(df['close'], df['volume'])\n",
        "\n",
        "tech_features['NATR'] = talib.NATR(df['high'], df['low'], df['close'])\n",
        "\n",
        "tech_features['AVGPRICE'] = talib.AVGPRICE(df['open'], df['high'], df['low'], df['close'])\n",
        "tech_features['MEDPRICE'] = talib.MEDPRICE(df['high'], df['low'])\n",
        "tech_features['TYPRICE'] = talib.TYPPRICE(df['high'], df['low'], df['close'])\n",
        "\n",
        "tech_features['WCLPRICE'] = talib.WCLPRICE(df['high'], df['low'], df['close'])\n",
        "tech_features['HT_PHASOR'] = talib.HT_DCPERIOD(df['close'])\n",
        "tech_features['HT_TRENDLINE'] = talib.HT_TRENDLINE(df['close'])\n",
        "\n",
        "tech_features['CDL2CROWS'] = talib.CDL2CROWS(df['open'], df['high'], df['low'], df['close'])\n",
        "tech_features['CDL3LINESTRIKE'] = talib.CDL3LINESTRIKE(df['open'], df['high'], df['low'], df['close'])\n",
        "tech_features['CDLBREAKAWAY'] = talib.CDLBREAKAWAY(df['open'], df['high'], df['low'], df['close'])\n",
        "tech_features['CDLEVENINGDOJISTAR'] = talib.CDLEVENINGDOJISTAR(df['open'], df['high'], df['low'], df['close'])\n",
        "\n",
        "tech_features['AROONOSC'] = talib.AROONOSC(df['high'], df['low'])\n",
        "tech_features['BOP'] = talib.BOP(df['open'], df['high'], df['low'], df['close'])\n",
        "\n",
        "tech_features['MA10'] = talib.MA(df['close'], timeperiod=10)\n",
        "tech_features['MA50'] = talib.MA(df['close'], timeperiod=50)\n",
        "tech_features['MA200'] = talib.MA(df['close'], timeperiod=200)\n",
        "tech_features['MINUS_DI'] = talib.MINUS_DI(df['high'], df['low'], df['close'])\n",
        "tech_features['MINUS_DM'] = talib.MINUS_DM(df['high'], df['low'])\n",
        "tech_features['PLUS_DI'] = talib.PLUS_DI(df['high'], df['low'], df['close'])\n",
        "tech_features['PLUS_DM'] = talib.PLUS_DM(df['high'], df['low'])\n",
        "\n",
        "tech_features['HT_DCPERIOD'] = talib.HT_DCPERIOD(df['close'])\n",
        "tech_features['HT_DCPHASE'] = talib.HT_DCPHASE(df['close'])\n",
        "tech_features['ATR'] = talib.ATR(df['high'], df['low'], df['close'])\n",
        "\n",
        "\n",
        "tech_features['BETA'] = talib.BETA(df['high'], df['low'])\n",
        "tech_features['CORREL'] = talib.CORREL(df['high'], df['low'])\n",
        "tech_features['STDDEV'] = talib.STDDEV(df['close'])\n",
        "tech_features['VAR'] = talib.VAR(df['close'])"
      ],
      "execution_count": 6,
      "outputs": []
    },
    {
      "cell_type": "code",
      "metadata": {
        "colab": {
          "base_uri": "https://localhost:8080/"
        },
        "id": "r6CBdeQ2TewL",
        "outputId": "6543cc37-ffab-4828-907c-8570b64cc3fa"
      },
      "source": [
        "D = df.copy()\n",
        "D = D.diff()\n",
        "D = D.dropna()\n",
        "tech_features = tech_features.dropna()\n",
        "ndl = D.shape[0] - tech_features.shape[0] \n",
        "D = D.iloc[ndl:]\n",
        "D = D.dropna()\n",
        "n_steps_in = windowSize\n",
        "tickrate = 1\n",
        "window_predict_in_seconds(tickrate, windowSize, n_steps_out)\n",
        "\n",
        "X_close, y_close = tickSlicing(D, tickrate, n_steps_in, n_steps_out, 'close')\n",
        "tech_features = tech_features.iloc[tech_features.shape[0]-X_close.shape[0]:]\n",
        "\n",
        "X_close = np.reshape(X_close, (X_close.shape[0], -1))\n",
        "\n",
        "print(tech_features.shape, X_close.shape)\n",
        "\n",
        "X_close = pd.DataFrame(X_close, index=tech_features.index)\n",
        "\n",
        "X = pd.concat([X_close, tech_features], axis=1)\n",
        "vol_dict = {i: 'VOL'+str(i) for i in range(windowSize,windowSize * 2)}\n",
        "price_dict = {i: 'PRICE'+str(i) for i in range(windowSize)}\n",
        "X = X.rename(columns=price_dict)\n",
        "X = X.rename(columns=vol_dict)\n",
        "\n",
        "print(X.shape, CLOSE.shape)\n",
        "\n",
        "CLOSE_normal = CLOSE.iloc[CLOSE.shape[0] - X.shape[0]:]\n",
        "print(CLOSE_normal.shape)\n",
        "\n",
        "y = y_close\n",
        "print(X.shape, y.shape)\n",
        "\n",
        "X_train, X_test, y_train, y_test = train_test_split(X, y, train_size=0.8, shuffle=False)\n",
        "CLOSE_train, CLOSE_test = train_test_split(CLOSE_normal, train_size=0.8, shuffle=False)\n",
        "train_scaler = StandardScaler()\n",
        "test_scaler = StandardScaler()\n",
        "\n",
        "X_train = train_scaler.fit_transform(X_train)\n",
        "X_test = test_scaler.fit_transform(X_test)\n",
        "\n",
        "X_train, X_val, y_train, y_val = train_test_split(X_train, y_train, train_size=0.9, shuffle=False)\n",
        "\n",
        "print(X_train.shape, X_test.shape, y_train.shape, y_test.shape)\n",
        "\n",
        "y_scaler = StandardScaler()\n",
        "y_scaler.fit(y_test)\n",
        "\n",
        "y_test_plot =  y_to_plot(y_test, n_steps_out)\n",
        "\n",
        "first_test_price = CLOSE[y_train.shape[0]]"
      ],
      "execution_count": 7,
      "outputs": [
        {
          "output_type": "stream",
          "text": [
            "Смотрим каждый  1 -ый тик, за последние  20 минут\n",
            "предсказываем на  1  минут вперед\n",
            "(199782, 51) (199782, 20)\n",
            "(199782, 71) (200000,)\n",
            "(199782,)\n",
            "(199782, 71) (199782, 1)\n",
            "(143842, 71) (39957, 71) (143842, 1) (39957, 1)\n"
          ],
          "name": "stdout"
        }
      ]
    },
    {
      "cell_type": "markdown",
      "metadata": {
        "id": "oacEbwefyOXa"
      },
      "source": [
        "# Normal things"
      ]
    },
    {
      "cell_type": "code",
      "metadata": {
        "colab": {
          "base_uri": "https://localhost:8080/"
        },
        "id": "d8C4NQ0dAbU9",
        "outputId": "1214f967-6801-4a81-8854-5e896a568278"
      },
      "source": [
        "epochs = 10\n",
        "batch = 128\n",
        "lr = 0.0003\n",
        "adam = optimizers.Adam(lr)\n",
        "\n",
        "model_mlp = Sequential()\n",
        "model_mlp.add(Dense(512, activation='relu', input_dim=(X_train.shape[1])))\n",
        "model_mlp.add(Dropout(0.5))\n",
        "# model_mlp.add(Dense(64, activation='relu'))\n",
        "# model_mlp.add(Dropout(0.5))\n",
        "model_mlp.add(Dense(1))\n",
        "model_mlp.compile(loss='mae', optimizer=adam)\n",
        "model_mlp.summary()\n",
        "\n",
        "mlp_history = model_mlp.fit(X_train, y_train, validation_data=(X_val, y_val), epochs=epochs, verbose=1)\n",
        "y_mlp = model_mlp.predict(X_test)\n",
        "metrics(y_test, y_mlp)"
      ],
      "execution_count": 10,
      "outputs": [
        {
          "output_type": "stream",
          "text": [
            "Model: \"sequential_2\"\n",
            "_________________________________________________________________\n",
            "Layer (type)                 Output Shape              Param #   \n",
            "=================================================================\n",
            "dense_6 (Dense)              (None, 512)               36864     \n",
            "_________________________________________________________________\n",
            "dropout_4 (Dropout)          (None, 512)               0         \n",
            "_________________________________________________________________\n",
            "dense_7 (Dense)              (None, 1)                 513       \n",
            "=================================================================\n",
            "Total params: 37,377\n",
            "Trainable params: 37,377\n",
            "Non-trainable params: 0\n",
            "_________________________________________________________________\n",
            "Epoch 1/10\n",
            "4496/4496 [==============================] - 10s 2ms/step - loss: 11.1242 - val_loss: 2.8049\n",
            "Epoch 2/10\n",
            "4496/4496 [==============================] - 9s 2ms/step - loss: 3.7612 - val_loss: 1.5270\n",
            "Epoch 3/10\n",
            "4496/4496 [==============================] - 9s 2ms/step - loss: 2.9582 - val_loss: 0.9493\n",
            "Epoch 4/10\n",
            "4496/4496 [==============================] - 9s 2ms/step - loss: 2.7192 - val_loss: 0.6168\n",
            "Epoch 5/10\n",
            "4496/4496 [==============================] - 9s 2ms/step - loss: 2.6225 - val_loss: 0.4308\n",
            "Epoch 6/10\n",
            "4496/4496 [==============================] - 9s 2ms/step - loss: 2.5714 - val_loss: 0.7541\n",
            "Epoch 7/10\n",
            "4496/4496 [==============================] - 9s 2ms/step - loss: 2.5438 - val_loss: 0.5017\n",
            "Epoch 8/10\n",
            "4496/4496 [==============================] - 9s 2ms/step - loss: 2.5257 - val_loss: 0.5494\n",
            "Epoch 9/10\n",
            "4496/4496 [==============================] - 9s 2ms/step - loss: 2.5039 - val_loss: 0.9234\n",
            "Epoch 10/10\n",
            "4496/4496 [==============================] - 9s 2ms/step - loss: 2.5045 - val_loss: 0.4549\n",
            "MSE:  141.91357337244912\n",
            "MAE:  7.808428189816319\n",
            "MAPE 24.997495971083385\n"
          ],
          "name": "stdout"
        }
      ]
    },
    {
      "cell_type": "code",
      "metadata": {
        "id": "porczM1HriEo"
      },
      "source": [
        "X_train_lstm = X_train.reshape((X_train.shape[0],1,-1))\n",
        "X_test_lstm = X_test.reshape((X_test.shape[0],1, -1))\n",
        "X_val_lstm = X_val.reshape((X_val.shape[0],1,-1))"
      ],
      "execution_count": 9,
      "outputs": []
    },
    {
      "cell_type": "code",
      "metadata": {
        "colab": {
          "base_uri": "https://localhost:8080/"
        },
        "id": "mIxbC3WbqVkl",
        "outputId": "203e2ab2-e1b6-480c-c31b-31843bef2cb5"
      },
      "source": [
        "epochs = 10\n",
        "batch = 256\n",
        "lr = 0.001\n",
        "adam = optimizers.Adam(lr)\n",
        "\n",
        "model_lstm = Sequential()\n",
        "model_lstm.add(LSTM(128, activation='relu', input_dim=(X_train.shape[1]), return_sequences=False))\n",
        "model_lstm.add(Dropout(0.5))\n",
        "model_lstm.add(Dense(100, activation='relu'))\n",
        "model_lstm.add(Dropout(0.3))\n",
        "model_lstm.add(Dense(1))\n",
        "\n",
        "model_lstm.compile(loss='mse', optimizer=adam)\n",
        "#model_lstm.summary()\n",
        "lstm_history=model_lstm.fit(X_train_lstm, y_train, validation_data=(X_val_lstm, y_val), epochs=epochs, verbose=1)\n",
        "y_lstm = model_lstm.predict(X_test_lstm)\n",
        "metrics(y_test, y_lstm)"
      ],
      "execution_count": 74,
      "outputs": [
        {
          "output_type": "stream",
          "text": [
            "Epoch 1/10\n",
            "4496/4496 [==============================] - 21s 4ms/step - loss: 476.4117 - val_loss: 56.6671\n",
            "Epoch 2/10\n",
            "4496/4496 [==============================] - 18s 4ms/step - loss: 149.4517 - val_loss: 61.9034\n",
            "Epoch 3/10\n",
            "4496/4496 [==============================] - 18s 4ms/step - loss: 131.2635 - val_loss: 26.0441\n",
            "Epoch 4/10\n",
            "4496/4496 [==============================] - 19s 4ms/step - loss: 123.2026 - val_loss: 22.9125\n",
            "Epoch 5/10\n",
            "4496/4496 [==============================] - 18s 4ms/step - loss: 114.6635 - val_loss: 17.0183\n",
            "Epoch 6/10\n",
            "4496/4496 [==============================] - 18s 4ms/step - loss: 107.8410 - val_loss: 11.8651\n",
            "Epoch 7/10\n",
            "4496/4496 [==============================] - 19s 4ms/step - loss: 105.1281 - val_loss: 14.7509\n",
            "Epoch 8/10\n",
            "4496/4496 [==============================] - 19s 4ms/step - loss: 103.4301 - val_loss: 10.5854\n",
            "Epoch 9/10\n",
            "4496/4496 [==============================] - 18s 4ms/step - loss: 100.5849 - val_loss: 26.3302\n",
            "Epoch 10/10\n",
            "4496/4496 [==============================] - 19s 4ms/step - loss: 105.3134 - val_loss: 5.7831\n",
            "MSE:  161.32624520733648\n",
            "MAE:  7.925711857242558\n",
            "MAPE 44.06521577915859\n"
          ],
          "name": "stdout"
        }
      ]
    },
    {
      "cell_type": "code",
      "metadata": {
        "colab": {
          "base_uri": "https://localhost:8080/"
        },
        "id": "-i4SPWEBYX7z",
        "outputId": "031676a4-2d7c-4ff8-ac9f-ef56893f1b00"
      },
      "source": [
        "import lightgbm as lgb\n",
        "y_train_r = np.reshape(y_train, (-1,))\n",
        "c_lgbData = lgb.Dataset(X_train, label=y_train_r)\n",
        "params = {}\n",
        "params['learning_rate'] = 0.11\n",
        "params['boosting_type'] = 'gbdt'\n",
        "params['objective'] = 'regression'\n",
        "params['metric'] = 'mae'\n",
        "params['sub_feature'] = 1\n",
        "params['num_leaves'] = 31\n",
        "params['min_data'] = 5\n",
        "params['max_depth'] = 6\n",
        "c_lgb = lgb.train(params, c_lgbData, 100)\n",
        "c_pred = c_lgb.predict(X_test)\n",
        "dt = len(y_test) // 3\n",
        "metrics(y_test, c_pred)"
      ],
      "execution_count": 11,
      "outputs": [
        {
          "output_type": "stream",
          "text": [
            "MSE:  388.5896557218009\n",
            "MAE:  8.117026524814241\n",
            "MAPE 17.971362430748062\n"
          ],
          "name": "stdout"
        }
      ]
    },
    {
      "cell_type": "code",
      "metadata": {
        "colab": {
          "base_uri": "https://localhost:8080/"
        },
        "id": "1DVciOyk4fDu",
        "outputId": "45b1b280-8c0a-4c17-bac8-55f75b8dd5a9"
      },
      "source": [
        "c_linreg = LinearRegression(n_jobs=-1)\n",
        "c_linreg.fit(X_train, y_train)\n",
        "y_linreg = c_linreg.predict(X_test)\n",
        "metrics(y_test, y_linreg)"
      ],
      "execution_count": 12,
      "outputs": [
        {
          "output_type": "stream",
          "text": [
            "MSE:  135.3594784476686\n",
            "MAE:  7.669869195942817\n",
            "MAPE 26.44929260628307\n"
          ],
          "name": "stdout"
        }
      ]
    },
    {
      "cell_type": "code",
      "metadata": {
        "colab": {
          "base_uri": "https://localhost:8080/"
        },
        "id": "Oyf1kcgM58dm",
        "outputId": "7a8776ca-6e22-49f7-cc06-adec4281f9f0"
      },
      "source": [
        "from xgboost import XGBRegressor\n",
        "xgbr = XGBRegressor(max_depth=6, learning_rate=0.25, n_estimators=100,n_jobs=-1)\n",
        "xgbr.fit(X_train, y_train)\n",
        "y_xgb = xgbr.predict(X_test)\n",
        "metrics(y_test, y_xgb)"
      ],
      "execution_count": 13,
      "outputs": [
        {
          "output_type": "stream",
          "text": [
            "[08:15:06] WARNING: /workspace/src/objective/regression_obj.cu:152: reg:linear is now deprecated in favor of reg:squarederror.\n",
            "MSE:  135.78584942263842\n",
            "MAE:  7.640552572149823\n",
            "MAPE 25.90701369563451\n"
          ],
          "name": "stdout"
        }
      ]
    },
    {
      "cell_type": "code",
      "metadata": {
        "colab": {
          "base_uri": "https://localhost:8080/"
        },
        "id": "8KhSMGsyiwn-",
        "outputId": "aa099485-202f-4fe0-fea2-a7cbfa7ab716"
      },
      "source": [
        "# 3 xgb experiment\n",
        "\n",
        "from xgboost import XGBRegressor\n",
        "xgbr1 = XGBRegressor(max_depth=4, learning_rate=0.25, n_estimators=200,n_jobs=-1)\n",
        "xgbr2 = XGBRegressor(max_depth=4, learning_rate=0.25, n_estimators=200,n_jobs=-1)\n",
        "xgbr3 = XGBRegressor(max_depth=4, learning_rate=0.25, n_estimators=200,n_jobs=-1)\n",
        "dt = len(X_train) // 3\n",
        "xgbr1.fit(X_train[:dt], y_train[:dt])\n",
        "xgbr2.fit(X_train[dt:2*dt], y_train[dt: 2*dt])\n",
        "xgbr3.fit(X_train[-dt:], y_train[-dt:])\n",
        "y_xgb1 = xgbr1.predict(X_test)\n",
        "y_xgb2 = xgbr2.predict(X_test)\n",
        "y_xgb3 = xgbr3.predict(X_test)\n",
        "print(y_xgb1.shape)\n",
        "y_final = (y_xgb1 + y_xgb2 + y_xgb3) / 3\n",
        "print(y_final.shape)\n",
        "metrics(y_test, y_final)"
      ],
      "execution_count": null,
      "outputs": [
        {
          "output_type": "stream",
          "text": [
            "[09:17:38] WARNING: /workspace/src/objective/regression_obj.cu:152: reg:linear is now deprecated in favor of reg:squarederror.\n",
            "[09:18:32] WARNING: /workspace/src/objective/regression_obj.cu:152: reg:linear is now deprecated in favor of reg:squarederror.\n",
            "[09:19:26] WARNING: /workspace/src/objective/regression_obj.cu:152: reg:linear is now deprecated in favor of reg:squarederror.\n",
            "(39955,)\n",
            "(39955,)\n",
            "MSE:  188.37399488053023\n",
            "MAE:  7.614965754633631\n",
            "MAPE 21.128398723077442\n"
          ],
          "name": "stdout"
        }
      ]
    },
    {
      "cell_type": "code",
      "metadata": {
        "colab": {
          "base_uri": "https://localhost:8080/"
        },
        "id": "6pvmKRyt92lj",
        "outputId": "ae26fc1c-a180-4a0b-859e-cc77e7db63d3"
      },
      "source": [
        "rfr = RandomForestRegressor(n_estimators=100, n_jobs=-1, verbose=0, max_depth=6)\n",
        "rfr.fit(X_train, np.reshape(y_train, (-1,)))\n",
        "y_rfr = rfr.predict(X_test)\n",
        "metrics(y_test, y_rfr)"
      ],
      "execution_count": 26,
      "outputs": [
        {
          "output_type": "stream",
          "text": [
            "MSE:  177.86203533177357\n",
            "MAE:  7.712413171499301\n",
            "MAPE 17.47036631629971\n"
          ],
          "name": "stdout"
        }
      ]
    },
    {
      "cell_type": "code",
      "metadata": {
        "colab": {
          "base_uri": "https://localhost:8080/"
        },
        "id": "AtexwVUbuO8J",
        "outputId": "ab709193-f9f7-4a8a-a1aa-9adc0c4b5170"
      },
      "source": [
        "print(y_lgb_test.shape , y_linreg_test.shape , y_xgb_test.shape , y_rfr_test.shape, y_mlp_test.shape, y_lstm_test.shape)"
      ],
      "execution_count": null,
      "outputs": [
        {
          "output_type": "stream",
          "text": [
            "(39959, 1) (39959, 1) (39959, 1) (39959, 1) (143849, 1) (143849, 1)\n"
          ],
          "name": "stdout"
        }
      ]
    },
    {
      "cell_type": "code",
      "metadata": {
        "colab": {
          "base_uri": "https://localhost:8080/"
        },
        "id": "XpAUOvnrCW0r",
        "outputId": "d31771f5-8ca6-4c5f-af45-df96ddce9979"
      },
      "source": [
        "y_lgb = c_lgb.predict(X_train).reshape((-1,1))\n",
        "y_linreg = c_linreg.predict(X_train).reshape((-1,1))\n",
        "y_xgb = xgbr.predict(X_train).reshape((-1,1))\n",
        "y_rfr = rfr.predict(X_train).reshape((-1,1))\n",
        "y_mlp = model_mlp.predict(X_train).reshape((-1,1))\n",
        "y_lstm = model_lstm.predict(X_train_lstm).reshape((-1,1))\n",
        "\n",
        "y_lgb_test = c_lgb.predict(X_test).reshape((-1,1))\n",
        "y_linreg_test = c_linreg.predict(X_test).reshape((-1,1))\n",
        "y_xgb_test = xgbr.predict(X_test).reshape((-1,1))\n",
        "y_rfr_test = rfr.predict(X_test).reshape((-1,1))\n",
        "y_mlp_test = model_mlp.predict(X_test).reshape((-1,1))\n",
        "y_lstm_test = model_lstm.predict(X_test_lstm).reshape((-1,1))\n",
        "\n",
        "\n",
        "ensemble_train = np.hstack([y_lgb, y_linreg, y_xgb, y_rfr, y_mlp, y_lstm])\n",
        "ensemble_test = np.hstack([y_lgb_test , y_linreg_test , y_xgb_test , y_rfr_test, y_mlp_test, y_lstm_test])\n",
        "print(ensemble_train.shape, ensemble_test.shape)\n",
        "\n",
        "#ensemble_model = XGBRegressor(n_jobs=-1, max_depth=2, n_estimators=100, learning_rate=0.001)\n",
        "ensemble_model = LinearRegression()\n",
        "ensemble_model.fit(ensemble_train, y_train)\n",
        "y_ensemble = ensemble_model.predict(ensemble_test)\n",
        "metrics(y_test, y_ensemble)"
      ],
      "execution_count": 15,
      "outputs": [
        {
          "output_type": "stream",
          "text": [
            "[Parallel(n_jobs=2)]: Using backend ThreadingBackend with 2 concurrent workers.\n",
            "[Parallel(n_jobs=2)]: Done  46 tasks      | elapsed:    0.4s\n",
            "[Parallel(n_jobs=2)]: Done 100 out of 100 | elapsed:    0.9s finished\n",
            "[Parallel(n_jobs=2)]: Using backend ThreadingBackend with 2 concurrent workers.\n",
            "[Parallel(n_jobs=2)]: Done  46 tasks      | elapsed:    0.1s\n",
            "[Parallel(n_jobs=2)]: Done 100 out of 100 | elapsed:    0.2s finished\n"
          ],
          "name": "stderr"
        },
        {
          "output_type": "stream",
          "text": [
            "(143849, 6) (39959, 6)\n",
            "MSE:  135.35947844767034\n",
            "MAE:  7.669869195942872\n",
            "MAPE 26.44929260628311\n"
          ],
          "name": "stdout"
        }
      ]
    },
    {
      "cell_type": "code",
      "metadata": {
        "colab": {
          "base_uri": "https://localhost:8080/"
        },
        "id": "AWoxpwUku2V0",
        "outputId": "feab110b-a20b-416e-9778-6bf984558ba6"
      },
      "source": [
        "print(\"~~~MLP~~~\")\n",
        "metrics(y_test, y_mlp_test)\n",
        "print(\"______________________\")\n",
        "print(\"~~~LSTM~~~\")\n",
        "metrics(y_test, y_lstm_test)\n",
        "print(\"______________________\")\n",
        "print(\"~~~Linreg~~~\")\n",
        "metrics(y_test, y_linreg_test)\n",
        "print(\"______________________\")\n",
        "print(\"~~~LGBM~~~\")\n",
        "metrics(y_test, y_lgb_test)\n",
        "print(\"______________________\")\n",
        "print(\"~~~XGBoost~~~\")\n",
        "metrics(y_test, y_xgb_test)\n",
        "print(\"______________________\")\n",
        "print(\"~~~Random Forest~~~\")\n",
        "metrics(y_test, y_rfr_test)\n",
        "print(\"______________________\")\n",
        "print(\"~~~Ensemble~~~\")\n",
        "metrics(y_test, y_ensemble)\n"
      ],
      "execution_count": 16,
      "outputs": [
        {
          "output_type": "stream",
          "text": [
            "~~~MLP~~~\n",
            "MSE:  139.56321610148117\n",
            "MAE:  7.72421800171441\n",
            "MAPE 24.368170985841918\n",
            "______________________\n",
            "~~~LSTM~~~\n",
            "MSE:  150.7764946776947\n",
            "MAE:  8.17051599827634\n",
            "MAPE 28.569927276490475\n",
            "______________________\n",
            "~~~Linreg~~~\n",
            "MSE:  135.3594784476686\n",
            "MAE:  7.669869195942817\n",
            "MAPE 26.44929260628307\n",
            "______________________\n",
            "~~~LGBM~~~\n",
            "MSE:  388.5896557218009\n",
            "MAE:  8.117026524814241\n",
            "MAPE 17.971362430748062\n",
            "______________________\n",
            "~~~XGBoost~~~\n",
            "MSE:  135.78584942263842\n",
            "MAE:  7.640552572149823\n",
            "MAPE 25.907013690588865\n",
            "______________________\n",
            "~~~Random Forest~~~\n",
            "MSE:  173.35194028311386\n",
            "MAE:  7.710071771043495\n",
            "MAPE 18.153637320378312\n",
            "______________________\n",
            "~~~Ensemble~~~\n",
            "MSE:  135.35947844767034\n",
            "MAE:  7.669869195942872\n",
            "MAPE 26.44929260628311\n"
          ],
          "name": "stdout"
        }
      ]
    },
    {
      "cell_type": "code",
      "metadata": {
        "id": "uNDw6tdXFf8K"
      },
      "source": [
        "def toPrice(price, deltas):\n",
        "  deltas = np.array(deltas)\n",
        "  return price + np.cumsum(deltas)\n",
        "\n",
        "\n",
        "def plot_forecast(X_test, i, prices, x_scaler, model_c, model_v):\n",
        "  y_multistep = one_to_multi(i, 5, model_c, model_v)\n",
        "  y_multistep = np.reshape(y_multistep, (-1,))\n",
        "\n",
        "  lastprice = prices[i]\n",
        "  print(y_multistep)\n",
        "  y_multistep = toPrice(lastprice, y_multistep)\n",
        "  print(y_multistep)\n",
        "\n",
        "  X_unscaled = x_scaler.inverse_transform(X_test[i])[:15]\n",
        "  X_usc2 = x_scaler.inverse_transform(X_test[i+5])[:15]\n",
        "\n",
        "  X_prices = toPrice(lastprice, X_unscaled)\n",
        "  X_addit = toPrice(prices[i+5], X_usc2)[10:15]\n",
        "  lenX = len(X_prices) + len(X_addit)\n",
        "\n",
        "  X_to_plot = pd.DataFrame(np.hstack([X_prices, X_addit]), index=range(lenX))\n",
        "  y_multistep = pd.DataFrame(y_multistep, index=range(lenX - 5 - 1 , lenX + len(y_multistep) - 5 - 1)) \n",
        "\n",
        "  plt.figure(figsize=(15,6))\n",
        "  plt.plot(X_to_plot)\n",
        "  plt.plot(y_multistep)\n",
        "  plt.legend(['test', 'predict'])\n",
        "  plt.title('BTC price')\n",
        "  plt.show()\n",
        "\n",
        "def total_2(model, X_test, y_test):\n",
        "  y_pred = model.predict(X_test)\n",
        "  print(y_pred)\n",
        "  y_1 = np.reshape(y_test, (-1,))\n",
        "  y_2 = np.reshape(y_pred, (-1,))\n",
        "  print(\"MAE: \", mean_absolute_error(y_test, y_pred))\n",
        "  print(\"MAPE: \",mean_absolute_percentage_error(y_1, y_2))\n",
        "\n",
        "  print(\"Пример предсказания\")\n",
        "  i = random.randint(0, X_test.shape[0])\n",
        "\n",
        "  print(y_pred[i])\n",
        "  print(y_test[i])\n",
        "\n",
        "  X_i_prices = toPrice(CLOSE_test[i],X_test[i])\n",
        "  y_pred_prices = toPrice(CLOSE_test[i+15], y_pred[i])\n",
        "  y_test_prices = toPrice(CLOSE_test[i+15], y_test[i])\n",
        "\n",
        "  plt.figure(figsize=(15,6))\n",
        "  plot_1 = np.hstack([X_i_prices, y_pred_prices]) \n",
        "  plot_2 = np.hstack([X_i_prices, y_test_prices])\n",
        "  plt.plot(plot_1)\n",
        "  plt.plot(plot_2)\n",
        "  plt.legend(['test', 'predict'])\n",
        "  plt.title('BTC price')\n",
        "  plt.show()\n"
      ],
      "execution_count": 17,
      "outputs": []
    },
    {
      "cell_type": "code",
      "metadata": {
        "colab": {
          "base_uri": "https://localhost:8080/",
          "height": 390
        },
        "id": "S9IJaY1fmSJ3",
        "outputId": "3f8e2209-22e5-4697-9515-2742acf9b830"
      },
      "source": [
        "from random import randint\n",
        "def plotForecast(model, X_test, y_test, prices, steps, i=10):\n",
        "  i = randint(1, len(y_test))\n",
        "\n",
        "  y_preds = []\n",
        "  for j in range(steps):\n",
        "    #print(X_test[i + j].shape)\n",
        "    predict = model.predict([X_test[i + j]])[0]\n",
        "    #predict += prices[i + j]\n",
        "    y_preds.append(predict)\n",
        "\n",
        "  y_preds_price = toPrice(CLOSE_test[i], y_preds)\n",
        "  y_test_price = toPrice(CLOSE_test[i], y_test[i:i+steps])\n",
        "\n",
        "  plt.figure(figsize=(15,6))\n",
        "  plt.plot(y_test_price)\n",
        "  plt.plot(y_preds_price)\n",
        "  plt.legend(['test', 'predict'])\n",
        "  plt.title('BTC price')\n",
        "  plt.show()\n",
        "\n",
        "plotForecast(xgbr, X_test, y_test, CLOSE_test, 40)"
      ],
      "execution_count": 18,
      "outputs": [
        {
          "output_type": "display_data",
          "data": {
            "image/png": "[encoded data removed]",
            "text/plain": [
              "<Figure size 1080x432 with 1 Axes>"
            ]
          },
          "metadata": {
            "tags": [],
            "needs_background": "light"
          }
        }
      ]
    },
    {
      "cell_type": "code",
      "metadata": {
        "id": "FZjK6-nAGfvG"
      },
      "source": [
        "def trade(model, money, X_test, y_test, prices, steps=len(X_test), threshold=0.001, stoploss=0.08): \n",
        "  fee = 0.01 / 100\n",
        "  buylast = False\n",
        "  soldlast = False\n",
        "  X_test = X_test[-steps:]\n",
        "  y_test = y_test[-steps:]\n",
        "  prices = prices[-steps:]\n",
        "  coins = 0.5 * money / prices[0]\n",
        "  cash = money * 0.5\n",
        "  buyprice = prices[0]\n",
        "  sellprice = prices[0]\n",
        "  history = [money]\n",
        "  for i in range(steps):\n",
        "    current = prices[i]\n",
        "    if (i == steps-1): \n",
        "      print(\"Current price: \", current, \"coins: \", round(coins, 4), \"cash: \", cash, \"total: \", round(cash + coins * current * (1 - fee), 2))\n",
        "    \n",
        "    d = model.predict(np.array([X_test[i]]))\n",
        "    if (not buylast and not soldlast) and abs(d) > current * threshold:\n",
        "      if d > 0: \n",
        "        # Пойдет вверх => покупаем\n",
        "        if (cash != 0):\n",
        "          coins += (0.5*cash * (1 - fee)) / current\n",
        "          buyprice=current\n",
        "          buylast = True\n",
        "          cash = 0.5*cash\n",
        "\n",
        "      elif d < 0:\n",
        "        # Пойде вниз => продаем , купим в след шаге(??)\n",
        "        if (coins != 0):\n",
        "          cash += (0.5 * coins  * (1 - fee)) * current\n",
        "          sellprice = current\n",
        "          soldlast = True\n",
        "          coins = 0.5 * coins\n",
        "    elif buylast:\n",
        "      buylast = False\n",
        "      cash += (0.5*coins * (1 - fee)) * current\n",
        "      coins = 0.5 * coins\n",
        "    elif soldlast:\n",
        "      soldlast = False\n",
        "      coins += (0.5*cash * (1 - fee)) / current\n",
        "      cash = 0.5 * cash\n",
        "\n",
        "    history.append(cash + coins * current)\n",
        "  print(\"Start price: \", prices[0], \"Close price: \", prices[-1])\n",
        "  print(\"Passive profit: \", prices[-1] / prices[0] * money * (1 - fee))\n",
        "  #plt.plot(range(len(history)), history)"
      ],
      "execution_count": 66,
      "outputs": []
    },
    {
      "cell_type": "code",
      "metadata": {
        "colab": {
          "base_uri": "https://localhost:8080/",
          "height": 320
        },
        "id": "Lxy52slqqSIT",
        "outputId": "b60b1bee-b88d-468e-a8ad-c94e2951fc9e"
      },
      "source": [
        "trade(xgbr, 1000, X_test, y_test, CLOSE_test, 30000,0.0032, 0.05)"
      ],
      "execution_count": 72,
      "outputs": [
        {
          "output_type": "stream",
          "text": [
            "Current price:  36343.0 coins:  0.008 cash:  582.7844261610194 total:  872.92\n",
            "Start price:  53928.95 Close price:  36343.0\n",
            "Passive profit:  673.8378125292631\n"
          ],
          "name": "stdout"
        },
        {
          "output_type": "display_data",
          "data": {
            "image/png": "[encoded data removed]",
            "text/plain": [
              "<Figure size 432x288 with 1 Axes>"
            ]
          },
          "metadata": {
            "tags": [],
            "needs_background": "light"
          }
        }
      ]
    },
    {
      "cell_type": "code",
      "metadata": {
        "colab": {
          "base_uri": "https://localhost:8080/"
        },
        "id": "It32hT0K0u-s",
        "outputId": "148c6d2d-b9b1-40b9-b2ee-2f9fa8b927a8"
      },
      "source": [
        "trade(model_mlp, 1000, X_test, y_test, CLOSE_test, 30000,0.0032, 0.05)"
      ],
      "execution_count": 20,
      "outputs": [
        {
          "output_type": "stream",
          "text": [
            "Current price:  36343.0 coins:  0.0078 cash:  571.4618534276946 total:  855.96\n",
            "Start price:  53928.95 Close price:  36343.0\n",
            "Passive profit:  673.8378125292631\n"
          ],
          "name": "stdout"
        }
      ]
    },
    {
      "cell_type": "code",
      "metadata": {
        "colab": {
          "base_uri": "https://localhost:8080/"
        },
        "id": "khOO5FK9zZ1M",
        "outputId": "a3028380-fb13-48ae-b980-4d57a47d9412"
      },
      "source": [
        "trade(model_lstm, 1000, X_test_lstm, y_test, CLOSE_test, 30000,0.0032, 0.05)"
      ],
      "execution_count": 21,
      "outputs": [
        {
          "output_type": "stream",
          "text": [
            "Current price:  36343.0 coins:  0.0079 cash:  575.4836479990523 total:  861.98\n",
            "Start price:  53928.95 Close price:  36343.0\n",
            "Passive profit:  673.8378125292631\n"
          ],
          "name": "stdout"
        }
      ]
    },
    {
      "cell_type": "code",
      "metadata": {
        "colab": {
          "base_uri": "https://localhost:8080/"
        },
        "id": "I9UGa_4e1JqW",
        "outputId": "f35cc3ab-9d80-4bf4-be2b-f1fb2f1d9cdb"
      },
      "source": [
        "trade(c_linreg, 1000, X_test, y_test, CLOSE_test, 30000,0.0032, 0.05)"
      ],
      "execution_count": 22,
      "outputs": [
        {
          "output_type": "stream",
          "text": [
            "Current price:  36343.0 coins:  0.008 cash:  584.8639751239964 total:  876.03\n",
            "Start price:  53928.95 Close price:  36343.0\n",
            "Passive profit:  673.8378125292631\n"
          ],
          "name": "stdout"
        }
      ]
    },
    {
      "cell_type": "code",
      "metadata": {
        "colab": {
          "base_uri": "https://localhost:8080/"
        },
        "id": "6s9xNnmUDJ0a",
        "outputId": "9dd134b4-90cd-47c2-f6df-a30b974ce68d"
      },
      "source": [
        "trade(c_lgb, 1000, X_test, y_test, CLOSE_test, 30000,0.0032, 0.05)"
      ],
      "execution_count": 23,
      "outputs": [
        {
          "output_type": "stream",
          "text": [
            "Current price:  36343.0 coins:  0.0078 cash:  568.9033638320576 total:  852.13\n",
            "Start price:  53928.95 Close price:  36343.0\n",
            "Passive profit:  673.8378125292631\n"
          ],
          "name": "stdout"
        }
      ]
    },
    {
      "cell_type": "code",
      "metadata": {
        "colab": {
          "base_uri": "https://localhost:8080/"
        },
        "id": "JVQQZspcziUh",
        "outputId": "da279499-d648-4261-e50a-0cc1fc664a36"
      },
      "source": [
        "trade(xgbr, 1000, X_test, y_test, CLOSE_test, 30000,0.0032, 0.04)"
      ],
      "execution_count": 24,
      "outputs": [
        {
          "output_type": "stream",
          "text": [
            "Current price:  36343.0 coins:  0.008 cash:  583.8565361498555 total:  874.52\n",
            "Start price:  53928.95 Close price:  36343.0\n",
            "Passive profit:  673.8378125292631\n"
          ],
          "name": "stdout"
        }
      ]
    },
    {
      "cell_type": "code",
      "metadata": {
        "id": "yVM77I64ziyZ",
        "colab": {
          "base_uri": "https://localhost:8080/"
        },
        "outputId": "c6ea5707-2d70-4714-9f04-a3b6ac60eb88"
      },
      "source": [
        "trade(rfr, 1000, X_test, y_test, CLOSE_test, 30000,0.0032, 0.04)"
      ],
      "execution_count": 27,
      "outputs": [
        {
          "output_type": "stream",
          "text": [
            "Current price:  36343.0 coins:  0.0081 cash:  589.9147597031647 total:  883.6\n",
            "Start price:  53928.95 Close price:  36343.0\n",
            "Passive profit:  673.8378125292631\n"
          ],
          "name": "stdout"
        }
      ]
    },
    {
      "cell_type": "markdown",
      "metadata": {
        "id": "mgRmsx2-pWmt"
      },
      "source": [
        "# Silly benchmark"
      ]
    },
    {
      "cell_type": "code",
      "metadata": {
        "id": "qD8CH-FQpaDu"
      },
      "source": [
        "def benchmark(model, X_test, y_test):\n",
        " \n",
        "  y_pred = model.predict(X_test[1: -1])\n",
        "  y_silly = y_test[:-2]\n",
        "  y_test = y_test[1: -1]\n",
        "\n",
        "  print(\"Silly metrics:\")\n",
        "  print(\"MAE: \", mean_absolute_error(y_test, y_silly))\n",
        "  print(\"MSE:\", mean_squared_error(y_test, y_silly))\n",
        "  print(\"MAPE\", mean_absolute_percentage_error(y_test, y_silly))\n",
        "\n",
        "  print(\"Model metrics: \")\n",
        "  print(\"MAE: \", mean_absolute_error(y_test, y_pred))\n",
        "  print(\"MSE:\", mean_squared_error(y_test, y_pred))\n",
        "  print(\"MAPE\", mean_absolute_percentage_error(y_test, y_pred))"
      ],
      "execution_count": null,
      "outputs": []
    },
    {
      "cell_type": "code",
      "metadata": {
        "colab": {
          "base_uri": "https://localhost:8080/"
        },
        "id": "M1hyQImt1pR3",
        "outputId": "09524c18-031a-476e-fa69-4aa94af98f8f"
      },
      "source": [
        "benchmark(c_linreg, X_test, y_test)"
      ],
      "execution_count": null,
      "outputs": [
        {
          "output_type": "stream",
          "text": [
            "Silly metrics:\n",
            "MAE:  73.29164601947092\n",
            "MSE: 12041.949882008163\n",
            "MAPE 1022.9435890010759\n",
            "Model metrics: \n",
            "MAE:  7.6697100339002695\n",
            "MSE: 135.358657096351\n",
            "MAPE 26.44896199525461\n"
          ],
          "name": "stdout"
        }
      ]
    },
    {
      "cell_type": "code",
      "metadata": {
        "id": "orbY4MOTqTpv"
      },
      "source": [
        "def trade_true(model, money, X_test, y_test, prices, steps=len(X_test), threshold=0.001, stoploss=0.08):\n",
        "  coins = 0\n",
        "  cash = money\n",
        "  fee = 0.01 / 100\n",
        "  buylast = False\n",
        "  soldlast = False\n",
        "  X_test = X_test[-steps:]\n",
        "  y_test = y_test[-steps:]\n",
        "  prices = prices[-steps:]\n",
        "  buyprice = prices[0]\n",
        "  sellprice = prices[0]\n",
        "  history = [money]\n",
        "  for i in range(steps-1):\n",
        "    current = prices[i]\n",
        "    if (i == steps-2): \n",
        "      print(\"Current price: \", current, \"coins: \", round(coins, 4), \"cash: \", cash, \"total: \", round(cash + coins * current * (1 - fee), 2))\n",
        "    \n",
        "    d = y_test[i+1]\n",
        "    if (not buylast and not soldlast) and abs(d) > current * threshold:\n",
        "      if d > 0: \n",
        "        # Пойдет вверх => покупаем\n",
        "        if (cash != 0):\n",
        "          coins += (0.5*cash * (1 - fee)) / current\n",
        "          buyprice=current\n",
        "          buylast = True\n",
        "          cash = 0.5*cash\n",
        "\n",
        "      elif d < 0:\n",
        "        # Пойде вниз => продаем , купим в след шаге(??)\n",
        "        if (coins != 0):\n",
        "          cash += (0.5 * coins  * (1 - fee)) * current\n",
        "          sellprice = current\n",
        "          soldlast = True\n",
        "          coins = 0.5 * coins\n",
        "    elif buylast:\n",
        "      buylast = False\n",
        "      cash += (0.5*coins * (1 - fee)) * current\n",
        "      coins = 0.5 * coins\n",
        "    elif soldlast:\n",
        "      soldlast = False\n",
        "      coins += (0.5*cash * (1 - fee)) / current\n",
        "      cash = 0.5 * cash\n",
        "\n",
        "    history.append(cash + coins * current)\n",
        "  print(\"Start price: \", prices[0], \"Close price: \", prices[-1])\n",
        "  print(\"Passive profit: \", prices[-1] / prices[0] * money * (1 - fee))\n",
        "  plt.plot(range(len(history)), history)\n",
        "#trade(xgbr, 10000, X_test, y_test, CLOSE_test, 10000, 0.0005)\n",
        "        \n",
        "\n",
        "\n",
        "\n",
        "\n",
        "\n"
      ],
      "execution_count": 53,
      "outputs": []
    },
    {
      "cell_type": "code",
      "metadata": {
        "colab": {
          "base_uri": "https://localhost:8080/",
          "height": 318
        },
        "id": "DMy1gnFPqkmk",
        "outputId": "6e4c4cac-c4ed-4467-cf37-4f51ab9acc88"
      },
      "source": [
        "trade_true(c_linreg, 1000, X_test, y_test, CLOSE_test, 30000,0.0032)"
      ],
      "execution_count": 54,
      "outputs": [
        {
          "output_type": "stream",
          "text": [
            "Current price:  36222.56 coins:  0.0322 cash:  2365.021219228658 total:  3532.5\n",
            "Start price:  53928.95 Close price:  36343.0\n",
            "Passive profit:  673.8378125292631\n"
          ],
          "name": "stdout"
        },
        {
          "output_type": "display_data",
          "data": {
            "image/png": "[encoded data removed]",
            "text/plain": [
              "<Figure size 432x288 with 1 Axes>"
            ]
          },
          "metadata": {
            "tags": [],
            "needs_background": "light"
          }
        }
      ]
    }
  ]
}